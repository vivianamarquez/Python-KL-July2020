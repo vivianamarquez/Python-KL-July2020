{
 "cells": [
  {
   "cell_type": "code",
   "execution_count": 1,
   "metadata": {
    "slideshow": {
     "slide_type": "notes"
    }
   },
   "outputs": [
    {
     "data": {
      "text/html": [
       "        <script type=\"text/javascript\">\n",
       "        window.PlotlyConfig = {MathJaxConfig: 'local'};\n",
       "        if (window.MathJax) {MathJax.Hub.Config({SVG: {font: \"STIX-Web\"}});}\n",
       "        if (typeof require !== 'undefined') {\n",
       "        require.undef(\"plotly\");\n",
       "        requirejs.config({\n",
       "            paths: {\n",
       "                'plotly': ['https://cdn.plot.ly/plotly-latest.min']\n",
       "            }\n",
       "        });\n",
       "        require(['plotly'], function(Plotly) {\n",
       "            window._Plotly = Plotly;\n",
       "        });\n",
       "        }\n",
       "        </script>\n",
       "        "
      ]
     },
     "metadata": {},
     "output_type": "display_data"
    }
   ],
   "source": [
    "import seaborn as sns\n",
    "sns.set()\n",
    "\n",
    "import PIL.Image\n",
    "from IPython.display import Image\n",
    "import plotly.io as pio\n",
    "import plotly.express as px\n",
    "import plotly.graph_objs as go\n",
    "from plotly.offline import download_plotlyjs, init_notebook_mode, plot, iplot\n",
    "\n",
    "import matplotlib.pyplot as plt\n",
    "%matplotlib inline\n",
    "init_notebook_mode(connected=True)"
   ]
  },
  {
   "attachments": {},
   "cell_type": "markdown",
   "metadata": {
    "slideshow": {
     "slide_type": "slide"
    }
   },
   "source": [
    "<img src='https://thumbs.gfycat.com/NecessarySociableCentipede-small.gif' style='height:550px; float: left; margin: 0px 15px 15px 0px'>\n",
    "\n",
    "# Introducción a K-means\n",
    "\n",
    "### Fundación Universitaria  Konrad Lorenz\n",
    "\n",
    "Viviana Márquez [vivianam.penam@konradlorenz.edu.co]\n",
    "\n",
    "Julio 24, 2020"
   ]
  },
  {
   "cell_type": "markdown",
   "metadata": {
    "slideshow": {
     "slide_type": "slide"
    }
   },
   "source": [
    "## 📝 Hoy veremos..."
   ]
  },
  {
   "cell_type": "markdown",
   "metadata": {
    "slideshow": {
     "slide_type": "fragment"
    }
   },
   "source": [
    "• K-means en el contexto de Machine Learning\n",
    "\n",
    "• Cuándo usar K-means\n",
    "\n",
    "• El paso a paso de K-means"
   ]
  },
  {
   "attachments": {},
   "cell_type": "markdown",
   "metadata": {
    "slideshow": {
     "slide_type": "fragment"
    }
   },
   "source": [
    "<img src='https://i.imgur.com/z2N2oSV.png' style='height:200px; float: left; margin: 0px 50px 0 px 0px'>• Ejercicio de programación \n",
    "\n",
    "• Errores comunes y cuando NO usar K-means\n",
    "\n",
    "• Cómo escoger la mejor K"
   ]
  },
  {
   "cell_type": "markdown",
   "metadata": {
    "slideshow": {
     "slide_type": "fragment"
    }
   },
   "source": [
    "• ¡Recapitulando! \n",
    "\n",
    "• En la próxima clase...\n",
    "\n",
    "• Laboratorio"
   ]
  },
  {
   "cell_type": "markdown",
   "metadata": {
    "slideshow": {
     "slide_type": "slide"
    }
   },
   "source": [
    "## 🌎 K-means en el mundo de Machine Learning\n",
    "<br>\n",
    "\n",
    "<center><img src='img/img1.png' style='height:600px'></center>"
   ]
  },
  {
   "cell_type": "markdown",
   "metadata": {
    "slideshow": {
     "slide_type": "slide"
    }
   },
   "source": [
    "## 🌎 K-means en el mundo de Machine Learning\n",
    "<br>\n",
    "\n",
    "<center><img src='img/img2.png' style='height:600px'></center>"
   ]
  },
  {
   "cell_type": "markdown",
   "metadata": {
    "slideshow": {
     "slide_type": "slide"
    }
   },
   "source": [
    "## 🤖 Métodos de Agrupación\n",
    "\n",
    "Es la forma más común de aprendizaje no supervisado\n"
   ]
  },
  {
   "cell_type": "markdown",
   "metadata": {
    "slideshow": {
     "slide_type": "fragment"
    }
   },
   "source": [
    "#### Datos\n",
    "\n",
    "• Muestras de entrenamiento $\\{ x_1, \\ldots, x_n\\} \\in \\mathbb{R}^{n}$\n",
    "\n",
    "• No necesitamos <i>(tenemos)</i> etiquetas $y_i$"
   ]
  },
  {
   "cell_type": "markdown",
   "metadata": {
    "slideshow": {
     "slide_type": "fragment"
    }
   },
   "source": [
    "#### Sirve para detectar patrones\n",
    "\n",
    "- Agrupar clientes para campañas de publicidad \n",
    "- Recomendaciones de resultados de busqueda\n",
    "- Segmentación de imagenes\n",
    "- y más..."
   ]
  },
  {
   "attachments": {},
   "cell_type": "markdown",
   "metadata": {
    "slideshow": {
     "slide_type": "slide"
    }
   },
   "source": [
    "## Primera (?) aplicación de agrupación\n",
    "\n",
    "<br>\n",
    "<img src='https://upload.wikimedia.org/wikipedia/commons/c/cc/John_Snow.jpg' style='height:250px; float: left; margin: 0px 50px 30px 0px'>• En la década de 1850, un médico de Londres llamado John Snow, graficó la ubicación de las muertes por cólera en un mapa.\n",
    "\n",
    "\n",
    "• Las ubicaciones mostraron que los casos estaban agrupados cerca ciertas intersecciones donde habían pozos contaminados -- así, exponiendo tanto el problema como la solución.\n",
    "\n",
    "<br>\n",
    "<center><img src='img/img3b.png' style='height:300px'><small>Fuente: Nina Mishra HP Labs</small></center>"
   ]
  },
  {
   "cell_type": "markdown",
   "metadata": {
    "slideshow": {
     "slide_type": "slide"
    }
   },
   "source": [
    "## 🤖 Métodos de Agrupación\n",
    "<br>"
   ]
  },
  {
   "cell_type": "markdown",
   "metadata": {
    "slideshow": {
     "slide_type": "fragment"
    }
   },
   "source": [
    "<b> Objetivo:</b> Agrupar ejemplares en clases de objetos similares-- \"cúmulos/clusters\""
   ]
  },
  {
   "cell_type": "markdown",
   "metadata": {
    "slideshow": {
     "slide_type": "fragment"
    }
   },
   "source": [
    "<b> ¿Cuándo usarlos?</b> Cuando no sabemos qué estamos buscando"
   ]
  },
  {
   "cell_type": "markdown",
   "metadata": {
    "slideshow": {
     "slide_type": "fragment"
    }
   },
   "source": [
    "<b>... pero, ¡cuidado, se puede convertir en galimatías!</b>"
   ]
  },
  {
   "cell_type": "markdown",
   "metadata": {
    "slideshow": {
     "slide_type": "skip"
    }
   },
   "source": [
    "```python\n",
    "El conjuto de datos debe tener:\n",
    "- Alta similaridad intra-clases\n",
    "- Baja similaridad inter-clases\n",
    "```"
   ]
  },
  {
   "cell_type": "markdown",
   "metadata": {
    "slideshow": {
     "slide_type": "slide"
    }
   },
   "source": [
    "## 🌎 K-means en el mundo de Machine Learning\n",
    "<br>\n",
    "\n",
    "<center><img src='img/img2.png' style='height:600px'></center>"
   ]
  },
  {
   "cell_type": "markdown",
   "metadata": {
    "slideshow": {
     "slide_type": "slide"
    }
   },
   "source": [
    "## 🔎  K-means en el mundo de Machine Learning\n",
    "<br>\n",
    "\n",
    "<center><img src='img/img4.png' style='height:600px'></center>"
   ]
  },
  {
   "cell_type": "markdown",
   "metadata": {
    "slideshow": {
     "slide_type": "slide"
    }
   },
   "source": [
    "## 🔎 K-means en el mundo de Machine Learning\n",
    "<br>\n",
    "\n",
    "<center><img src='img/img5b.png' style='height:800px'></center>"
   ]
  },
  {
   "cell_type": "markdown",
   "metadata": {
    "slideshow": {
     "slide_type": "slide"
    }
   },
   "source": [
    "## 🔎  K-means en el mundo de Machine Learning\n",
    "<br>\n",
    "\n",
    "<center><img src='img/img6b.png' style='height:800px'></center>"
   ]
  },
  {
   "cell_type": "markdown",
   "metadata": {
    "slideshow": {
     "slide_type": "slide"
    }
   },
   "source": [
    "# K-means\n",
    "<b>(También conocido como K-medias)</b>\n",
    "\n",
    "<br>\n",
    "Modelo de Machine Learning NO supervisado de agrupación por partición\n",
    "\n",
    "<br><br>\n",
    "\n",
    "<center><img src='img/img7b.gif' style='height:150px'></center>\n",
    "\n"
   ]
  },
  {
   "cell_type": "markdown",
   "metadata": {
    "slideshow": {
     "slide_type": "fragment"
    }
   },
   "source": [
    "<center>K-means un algoritmo <b><u>iterativo</u></b> cuyo objetivo es particionar un conjunto de $N$ observaciones <br>\n",
    "    en $K$ grupos en el que cada observación pertenece al grupo cuyo valor medio es más cercano.</center>"
   ]
  },
  {
   "cell_type": "markdown",
   "metadata": {
    "slideshow": {
     "slide_type": "slide"
    }
   },
   "source": [
    "### K-means --- Pasos"
   ]
  },
  {
   "cell_type": "markdown",
   "metadata": {
    "slideshow": {
     "slide_type": "fragment"
    }
   },
   "source": [
    "<img src='https://upload.wikimedia.org/wikipedia/commons/thumb/5/5e/K_Means_Example_Step_1.svg/249px-K_Means_Example_Step_1.svg.png' style='height:250px; float: left; margin: 0px 50px 0px 0px'>\n",
    "\n",
    "<b> 1. Inicializar</b>\n",
    "<br><br>A. &nbsp; Elegir un número K de cúmulos\n",
    "<br><br>B. &nbsp; Escoger aleatoriamente K puntos como centroides"
   ]
  },
  {
   "cell_type": "markdown",
   "metadata": {
    "slideshow": {
     "slide_type": "fragment"
    }
   },
   "source": [
    "<center><img src='https://upload.wikimedia.org/wikipedia/commons/thumb/a/a5/K_Means_Example_Step_2.svg/278px-K_Means_Example_Step_2.svg.png' style='height:250px; float: right; margin: 0px 0px 0px 0px'>\n",
    "\n",
    "\n",
    "<img src='https://upload.wikimedia.org/wikipedia/commons/thumb/3/3e/K_Means_Example_Step_3.svg/278px-K_Means_Example_Step_3.svg.png' style='height:250px; float: right; margin: 0px 0px 0px 0px'></center>\n",
    "\n",
    "<b>2. Repetir</b>\n",
    "<br><br>A. &nbsp; Los K cúmulos se crean asociando cada observación con la media más cercana\n",
    "<br><br>B. &nbsp; El nuevo centroide de cada uno de los K cúmulos es la media de sus observaciones"
   ]
  },
  {
   "cell_type": "markdown",
   "metadata": {
    "slideshow": {
     "slide_type": "slide"
    }
   },
   "source": [
    "### K-means --- Pasos"
   ]
  },
  {
   "attachments": {},
   "cell_type": "markdown",
   "metadata": {
    "slideshow": {
     "slide_type": "fragment"
    }
   },
   "source": [
    "<img src='https://upload.wikimedia.org/wikipedia/commons/thumb/d/d2/K_Means_Example_Step_4.svg/278px-K_Means_Example_Step_4.svg.png' style='height:250px; float: left; margin: 0px 50px 0px 0px'>\n",
    "\n",
    "<b>3. Parar </b>\n",
    "<br><br>A. &nbsp; Repetir pasos 1 y 2\n",
    "<br><br>B. &nbsp; El algoritmo acaba cuando ya no hay cambio en los centroides de los cúmulos, las observaciones de los cúmulos siguen siendo las mismas, o el máximo número de iteraciones es alcanzado"
   ]
  },
  {
   "cell_type": "markdown",
   "metadata": {
    "slideshow": {
     "slide_type": "fragment"
    }
   },
   "source": [
    "#### Referencias:\n",
    "    \n",
    "- Definición matemática: [Link](http://cs229.stanford.edu/notes/cs229-notes7a.pdf)\n",
    "\n",
    "- Visualización: [Video](https://www.youtube.com/watch?v=BVFG7fd1H30)"
   ]
  },
  {
   "cell_type": "markdown",
   "metadata": {
    "slideshow": {
     "slide_type": "slide"
    }
   },
   "source": [
    "### 👮‍♀️ Punto de control\n",
    "<br>\n",
    "<img src='img/kmeans2.png' style='height:700px; float: right; margin: 0px 50px 0px 0px'>\n",
    "\n",
    "¿Cuál es el número de $K$?\n",
    "\n",
    " ¿Qué está pasando en cada paso?"
   ]
  },
  {
   "cell_type": "markdown",
   "metadata": {
    "slideshow": {
     "slide_type": "slide"
    }
   },
   "source": [
    "# 👩‍💻 Manos a la obra\n",
    "\n",
    "### Problema\n",
    "\n",
    "<center><img src='img/iris1b.png'></center>\n",
    "          \n",
    "Tenemos que identificar tres distintas especies de la flor del género <i>iris</i> y sólo tenemos información sobre el tamaño de sus pétalos."
   ]
  },
  {
   "cell_type": "markdown",
   "metadata": {
    "slideshow": {
     "slide_type": "slide"
    }
   },
   "source": [
    "# 👩‍💻 Manos a la obra\n",
    "\n",
    "<b>Paso 1:</b> Cargar los datos"
   ]
  },
  {
   "cell_type": "code",
   "execution_count": 2,
   "metadata": {
    "slideshow": {
     "slide_type": "fragment"
    }
   },
   "outputs": [
    {
     "data": {
      "text/html": [
       "<div>\n",
       "<style scoped>\n",
       "    .dataframe tbody tr th:only-of-type {\n",
       "        vertical-align: middle;\n",
       "    }\n",
       "\n",
       "    .dataframe tbody tr th {\n",
       "        vertical-align: top;\n",
       "    }\n",
       "\n",
       "    .dataframe thead th {\n",
       "        text-align: right;\n",
       "    }\n",
       "</style>\n",
       "<table border=\"1\" class=\"dataframe\">\n",
       "  <thead>\n",
       "    <tr style=\"text-align: right;\">\n",
       "      <th></th>\n",
       "      <th>petal_length</th>\n",
       "      <th>petal_width</th>\n",
       "    </tr>\n",
       "  </thead>\n",
       "  <tbody>\n",
       "    <tr>\n",
       "      <td>82</td>\n",
       "      <td>3.9</td>\n",
       "      <td>1.2</td>\n",
       "    </tr>\n",
       "    <tr>\n",
       "      <td>31</td>\n",
       "      <td>1.5</td>\n",
       "      <td>0.4</td>\n",
       "    </tr>\n",
       "    <tr>\n",
       "      <td>69</td>\n",
       "      <td>3.9</td>\n",
       "      <td>1.1</td>\n",
       "    </tr>\n",
       "    <tr>\n",
       "      <td>37</td>\n",
       "      <td>1.4</td>\n",
       "      <td>0.1</td>\n",
       "    </tr>\n",
       "    <tr>\n",
       "      <td>48</td>\n",
       "      <td>1.5</td>\n",
       "      <td>0.2</td>\n",
       "    </tr>\n",
       "  </tbody>\n",
       "</table>\n",
       "</div>"
      ],
      "text/plain": [
       "    petal_length  petal_width\n",
       "82           3.9          1.2\n",
       "31           1.5          0.4\n",
       "69           3.9          1.1\n",
       "37           1.4          0.1\n",
       "48           1.5          0.2"
      ]
     },
     "execution_count": 2,
     "metadata": {},
     "output_type": "execute_result"
    }
   ],
   "source": [
    "import pandas as pd\n",
    "import seaborn as sns\n",
    "\n",
    "iris = sns.load_dataset(\"iris\")\n",
    "iris = iris[['petal_length', 'petal_width']]\n",
    "\n",
    "iris.sample(5)"
   ]
  },
  {
   "cell_type": "code",
   "execution_count": 3,
   "metadata": {
    "slideshow": {
     "slide_type": "fragment"
    }
   },
   "outputs": [
    {
     "data": {
      "text/plain": [
       "(150, 2)"
      ]
     },
     "execution_count": 3,
     "metadata": {},
     "output_type": "execute_result"
    }
   ],
   "source": [
    "iris.shape"
   ]
  },
  {
   "cell_type": "markdown",
   "metadata": {
    "slideshow": {
     "slide_type": "fragment"
    }
   },
   "source": [
    "<small><i>Recordatorio: </i><br>\n",
    "Para cualquier modelo, al cargar los datos siempre debemos verificar que esten correctos, lidiar con los datos faltantes, escoger las características importantes,  hacer ingeniería de características (feature engineering), etc.</small>"
   ]
  },
  {
   "cell_type": "markdown",
   "metadata": {
    "slideshow": {
     "slide_type": "slide"
    }
   },
   "source": [
    "# 👩‍💻 Manos a la obra\n",
    "\n",
    "<b>Paso 2:</b> Entrenar el modelo"
   ]
  },
  {
   "cell_type": "code",
   "execution_count": 4,
   "metadata": {
    "slideshow": {
     "slide_type": "fragment"
    }
   },
   "outputs": [
    {
     "data": {
      "text/plain": [
       "KMeans(algorithm='auto', copy_x=True, init='k-means++', max_iter=300,\n",
       "       n_clusters=3, n_init=10, n_jobs=None, precompute_distances='auto',\n",
       "       random_state=None, tol=0.0001, verbose=0)"
      ]
     },
     "execution_count": 4,
     "metadata": {},
     "output_type": "execute_result"
    }
   ],
   "source": [
    "from sklearn.cluster import KMeans # 🙏our savior\n",
    "\n",
    "model = KMeans(n_clusters=3) \n",
    "model.fit(iris)"
   ]
  },
  {
   "cell_type": "markdown",
   "metadata": {
    "slideshow": {
     "slide_type": "fragment"
    }
   },
   "source": [
    "¡Importante! Revisar los parametros disponibles en la [documentación](https://scikit-learn.org/stable/modules/generated/sklearn.cluster.KMeans.html)."
   ]
  },
  {
   "cell_type": "markdown",
   "metadata": {
    "slideshow": {
     "slide_type": "slide"
    }
   },
   "source": [
    "# 👩‍💻 Trabajando con el modelo"
   ]
  },
  {
   "cell_type": "code",
   "execution_count": 5,
   "metadata": {
    "slideshow": {
     "slide_type": "fragment"
    }
   },
   "outputs": [
    {
     "data": {
      "text/plain": [
       "array([0, 0, 0, 0, 0, 0, 0, 0, 0, 0, 0, 0, 0, 0, 0, 0, 0, 0, 0, 0, 0, 0,\n",
       "       0, 0, 0, 0, 0, 0, 0, 0, 0, 0, 0, 0, 0, 0, 0, 0, 0, 0, 0, 0, 0, 0,\n",
       "       0, 0, 0, 0, 0, 0, 2, 2, 2, 2, 2, 2, 2, 2, 2, 2, 2, 2, 2, 2, 2, 2,\n",
       "       2, 2, 2, 2, 2, 2, 2, 2, 2, 2, 2, 1, 2, 2, 2, 2, 2, 1, 2, 2, 2, 2,\n",
       "       2, 2, 2, 2, 2, 2, 2, 2, 2, 2, 2, 2, 1, 1, 1, 1, 1, 1, 2, 1, 1, 1,\n",
       "       1, 1, 1, 1, 1, 1, 1, 1, 1, 2, 1, 1, 1, 1, 1, 1, 2, 1, 1, 1, 1, 1,\n",
       "       1, 1, 1, 1, 1, 1, 2, 1, 1, 1, 1, 1, 1, 1, 1, 1, 1, 1], dtype=int32)"
      ]
     },
     "execution_count": 5,
     "metadata": {},
     "output_type": "execute_result"
    }
   ],
   "source": [
    "# Los resultados\n",
    "model.labels_"
   ]
  },
  {
   "cell_type": "code",
   "execution_count": 6,
   "metadata": {
    "slideshow": {
     "slide_type": "fragment"
    }
   },
   "outputs": [
    {
     "data": {
      "text/html": [
       "<div>\n",
       "<style scoped>\n",
       "    .dataframe tbody tr th:only-of-type {\n",
       "        vertical-align: middle;\n",
       "    }\n",
       "\n",
       "    .dataframe tbody tr th {\n",
       "        vertical-align: top;\n",
       "    }\n",
       "\n",
       "    .dataframe thead th {\n",
       "        text-align: right;\n",
       "    }\n",
       "</style>\n",
       "<table border=\"1\" class=\"dataframe\">\n",
       "  <thead>\n",
       "    <tr style=\"text-align: right;\">\n",
       "      <th></th>\n",
       "      <th>petal_length</th>\n",
       "      <th>petal_width</th>\n",
       "      <th>cluster</th>\n",
       "    </tr>\n",
       "  </thead>\n",
       "  <tbody>\n",
       "    <tr>\n",
       "      <td>18</td>\n",
       "      <td>1.7</td>\n",
       "      <td>0.3</td>\n",
       "      <td>0</td>\n",
       "    </tr>\n",
       "    <tr>\n",
       "      <td>6</td>\n",
       "      <td>1.4</td>\n",
       "      <td>0.3</td>\n",
       "      <td>0</td>\n",
       "    </tr>\n",
       "    <tr>\n",
       "      <td>41</td>\n",
       "      <td>1.3</td>\n",
       "      <td>0.3</td>\n",
       "      <td>0</td>\n",
       "    </tr>\n",
       "    <tr>\n",
       "      <td>14</td>\n",
       "      <td>1.2</td>\n",
       "      <td>0.2</td>\n",
       "      <td>0</td>\n",
       "    </tr>\n",
       "    <tr>\n",
       "      <td>117</td>\n",
       "      <td>6.7</td>\n",
       "      <td>2.2</td>\n",
       "      <td>1</td>\n",
       "    </tr>\n",
       "  </tbody>\n",
       "</table>\n",
       "</div>"
      ],
      "text/plain": [
       "     petal_length  petal_width  cluster\n",
       "18            1.7          0.3        0\n",
       "6             1.4          0.3        0\n",
       "41            1.3          0.3        0\n",
       "14            1.2          0.2        0\n",
       "117           6.7          2.2        1"
      ]
     },
     "execution_count": 6,
     "metadata": {},
     "output_type": "execute_result"
    }
   ],
   "source": [
    "iris['cluster'] = model.labels_\n",
    "iris.sample(5)"
   ]
  },
  {
   "cell_type": "code",
   "execution_count": 7,
   "metadata": {
    "slideshow": {
     "slide_type": "fragment"
    }
   },
   "outputs": [
    {
     "data": {
      "text/plain": [
       "2    52\n",
       "0    50\n",
       "1    48\n",
       "Name: cluster, dtype: int64"
      ]
     },
     "execution_count": 7,
     "metadata": {},
     "output_type": "execute_result"
    }
   ],
   "source": [
    "iris.cluster.value_counts()"
   ]
  },
  {
   "cell_type": "markdown",
   "metadata": {
    "slideshow": {
     "slide_type": "slide"
    }
   },
   "source": [
    "# 👩‍💻 Trabajando con el modelo"
   ]
  },
  {
   "cell_type": "code",
   "execution_count": 8,
   "metadata": {
    "slideshow": {
     "slide_type": "fragment"
    }
   },
   "outputs": [
    {
     "data": {
      "text/plain": [
       "array([[1.462     , 0.246     ],\n",
       "       [5.59583333, 2.0375    ],\n",
       "       [4.26923077, 1.34230769]])"
      ]
     },
     "execution_count": 8,
     "metadata": {},
     "output_type": "execute_result"
    }
   ],
   "source": [
    "# Centroides\n",
    "model.cluster_centers_"
   ]
  },
  {
   "cell_type": "code",
   "execution_count": 9,
   "metadata": {
    "slideshow": {
     "slide_type": "fragment"
    }
   },
   "outputs": [
    {
     "data": {
      "text/html": [
       "<div>\n",
       "<style scoped>\n",
       "    .dataframe tbody tr th:only-of-type {\n",
       "        vertical-align: middle;\n",
       "    }\n",
       "\n",
       "    .dataframe tbody tr th {\n",
       "        vertical-align: top;\n",
       "    }\n",
       "\n",
       "    .dataframe thead th {\n",
       "        text-align: right;\n",
       "    }\n",
       "</style>\n",
       "<table border=\"1\" class=\"dataframe\">\n",
       "  <thead>\n",
       "    <tr style=\"text-align: right;\">\n",
       "      <th></th>\n",
       "      <th>petal_length</th>\n",
       "      <th>petal_width</th>\n",
       "      <th>cluster</th>\n",
       "    </tr>\n",
       "  </thead>\n",
       "  <tbody>\n",
       "    <tr>\n",
       "      <td>0</td>\n",
       "      <td>1.462000</td>\n",
       "      <td>0.246000</td>\n",
       "      <td>0</td>\n",
       "    </tr>\n",
       "    <tr>\n",
       "      <td>1</td>\n",
       "      <td>5.595833</td>\n",
       "      <td>2.037500</td>\n",
       "      <td>1</td>\n",
       "    </tr>\n",
       "    <tr>\n",
       "      <td>2</td>\n",
       "      <td>4.269231</td>\n",
       "      <td>1.342308</td>\n",
       "      <td>2</td>\n",
       "    </tr>\n",
       "  </tbody>\n",
       "</table>\n",
       "</div>"
      ],
      "text/plain": [
       "   petal_length  petal_width  cluster\n",
       "0      1.462000     0.246000        0\n",
       "1      5.595833     2.037500        1\n",
       "2      4.269231     1.342308        2"
      ]
     },
     "execution_count": 9,
     "metadata": {},
     "output_type": "execute_result"
    }
   ],
   "source": [
    "df_centroides = pd.DataFrame(model.cluster_centers_)\n",
    "df_centroides.columns = ['petal_length', 'petal_width']\n",
    "df_centroides['cluster'] = [0,1,2]\n",
    "df_centroides"
   ]
  },
  {
   "cell_type": "markdown",
   "metadata": {
    "slideshow": {
     "slide_type": "slide"
    }
   },
   "source": [
    "# 👩‍💻 Visualizar el modelo"
   ]
  },
  {
   "cell_type": "code",
   "execution_count": 10,
   "metadata": {
    "slideshow": {
     "slide_type": "fragment"
    }
   },
   "outputs": [],
   "source": [
    "def plot(r=False):\n",
    "    if r == True:\n",
    "        t = [f\"Largo: {largo:.2f}cm<br>Ancho: {ancho:.2f}<br>Cluster: {c} - {r}\" for largo,ancho,c,r in zip(iris.petal_length, iris.petal_width.values, iris.cluster.values, sns.load_dataset(\"iris\").species.values)]\n",
    "    else:\n",
    "        t = [f\"Largo: {largo:.2f}cm<br>Ancho: {ancho:.2f}<br>Cluster: {c}\" for largo,ancho,c in zip(iris.petal_length, iris.petal_width.values, iris.cluster.values)]\n",
    "    \n",
    "    \n",
    "    colors = {0: 'green', 1: 'red', 2: 'orange'}\n",
    "\n",
    "    # Traza de los ejemplares\n",
    "    traza_ejemplares = go.Scatter(\n",
    "\n",
    "        x=iris.petal_length.values,\n",
    "        y=iris.petal_width.values,\n",
    "        text = t,\n",
    "        hoverinfo='text',\n",
    "        mode='markers', \n",
    "        marker = {'color': [colors[c] for c in iris.cluster.values]},\n",
    "        name=\"Observaciones\"\n",
    "    )\n",
    "\n",
    "\n",
    "    # Traza de los centroides\n",
    "    traza_centroides = go.Scatter(\n",
    "\n",
    "        x=df_centroides.petal_length.values,\n",
    "        y=df_centroides.petal_width.values,\n",
    "        text = [f\"CENTROIDE<br>Largo: {largo:.2f}cm<br>Ancho: {ancho:.2f}<br>Cluster: {c}\" for largo,ancho,c in zip(iris.petal_length, iris.petal_width.values, iris.cluster.values)],\n",
    "        hoverinfo='text',\n",
    "        mode='markers', \n",
    "        marker = {'color': [colors[c] for c in df_centroides.cluster.values],\n",
    "                   'line': dict(color='yellow', width=1),\n",
    "                  'symbol': 202,\n",
    "                  'size': 10},\n",
    "        name=\"Centroides\",\n",
    "    )\n",
    "\n",
    "\n",
    "    # Layout\n",
    "    layout = go.Layout(title=\"Iris Clustering\",\n",
    "                       xaxis_title=\"Largo del Pétalo\",\n",
    "                       yaxis_title=\"Ancho del Pétalo\")\n",
    "\n",
    "    # Figura\n",
    "    fig = go.Figure(data=[traza_ejemplares, traza_centroides], layout=layout)\n",
    "    iplot(fig)"
   ]
  },
  {
   "cell_type": "code",
   "execution_count": 11,
   "metadata": {
    "slideshow": {
     "slide_type": "slide"
    }
   },
   "outputs": [
    {
     "data": {
      "application/vnd.plotly.v1+json": {
       "config": {
        "linkText": "Export to plot.ly",
        "plotlyServerURL": "https://plot.ly",
        "showLink": false
       },
       "data": [
        {
         "hoverinfo": "text",
         "marker": {
          "color": [
           "green",
           "green",
           "green",
           "green",
           "green",
           "green",
           "green",
           "green",
           "green",
           "green",
           "green",
           "green",
           "green",
           "green",
           "green",
           "green",
           "green",
           "green",
           "green",
           "green",
           "green",
           "green",
           "green",
           "green",
           "green",
           "green",
           "green",
           "green",
           "green",
           "green",
           "green",
           "green",
           "green",
           "green",
           "green",
           "green",
           "green",
           "green",
           "green",
           "green",
           "green",
           "green",
           "green",
           "green",
           "green",
           "green",
           "green",
           "green",
           "green",
           "green",
           "orange",
           "orange",
           "orange",
           "orange",
           "orange",
           "orange",
           "orange",
           "orange",
           "orange",
           "orange",
           "orange",
           "orange",
           "orange",
           "orange",
           "orange",
           "orange",
           "orange",
           "orange",
           "orange",
           "orange",
           "orange",
           "orange",
           "orange",
           "orange",
           "orange",
           "orange",
           "orange",
           "red",
           "orange",
           "orange",
           "orange",
           "orange",
           "orange",
           "red",
           "orange",
           "orange",
           "orange",
           "orange",
           "orange",
           "orange",
           "orange",
           "orange",
           "orange",
           "orange",
           "orange",
           "orange",
           "orange",
           "orange",
           "orange",
           "orange",
           "red",
           "red",
           "red",
           "red",
           "red",
           "red",
           "orange",
           "red",
           "red",
           "red",
           "red",
           "red",
           "red",
           "red",
           "red",
           "red",
           "red",
           "red",
           "red",
           "orange",
           "red",
           "red",
           "red",
           "red",
           "red",
           "red",
           "orange",
           "red",
           "red",
           "red",
           "red",
           "red",
           "red",
           "red",
           "red",
           "red",
           "red",
           "red",
           "orange",
           "red",
           "red",
           "red",
           "red",
           "red",
           "red",
           "red",
           "red",
           "red",
           "red",
           "red"
          ]
         },
         "mode": "markers",
         "name": "Observaciones",
         "text": [
          "Largo: 1.40cm<br>Ancho: 0.20<br>Cluster: 0",
          "Largo: 1.40cm<br>Ancho: 0.20<br>Cluster: 0",
          "Largo: 1.30cm<br>Ancho: 0.20<br>Cluster: 0",
          "Largo: 1.50cm<br>Ancho: 0.20<br>Cluster: 0",
          "Largo: 1.40cm<br>Ancho: 0.20<br>Cluster: 0",
          "Largo: 1.70cm<br>Ancho: 0.40<br>Cluster: 0",
          "Largo: 1.40cm<br>Ancho: 0.30<br>Cluster: 0",
          "Largo: 1.50cm<br>Ancho: 0.20<br>Cluster: 0",
          "Largo: 1.40cm<br>Ancho: 0.20<br>Cluster: 0",
          "Largo: 1.50cm<br>Ancho: 0.10<br>Cluster: 0",
          "Largo: 1.50cm<br>Ancho: 0.20<br>Cluster: 0",
          "Largo: 1.60cm<br>Ancho: 0.20<br>Cluster: 0",
          "Largo: 1.40cm<br>Ancho: 0.10<br>Cluster: 0",
          "Largo: 1.10cm<br>Ancho: 0.10<br>Cluster: 0",
          "Largo: 1.20cm<br>Ancho: 0.20<br>Cluster: 0",
          "Largo: 1.50cm<br>Ancho: 0.40<br>Cluster: 0",
          "Largo: 1.30cm<br>Ancho: 0.40<br>Cluster: 0",
          "Largo: 1.40cm<br>Ancho: 0.30<br>Cluster: 0",
          "Largo: 1.70cm<br>Ancho: 0.30<br>Cluster: 0",
          "Largo: 1.50cm<br>Ancho: 0.30<br>Cluster: 0",
          "Largo: 1.70cm<br>Ancho: 0.20<br>Cluster: 0",
          "Largo: 1.50cm<br>Ancho: 0.40<br>Cluster: 0",
          "Largo: 1.00cm<br>Ancho: 0.20<br>Cluster: 0",
          "Largo: 1.70cm<br>Ancho: 0.50<br>Cluster: 0",
          "Largo: 1.90cm<br>Ancho: 0.20<br>Cluster: 0",
          "Largo: 1.60cm<br>Ancho: 0.20<br>Cluster: 0",
          "Largo: 1.60cm<br>Ancho: 0.40<br>Cluster: 0",
          "Largo: 1.50cm<br>Ancho: 0.20<br>Cluster: 0",
          "Largo: 1.40cm<br>Ancho: 0.20<br>Cluster: 0",
          "Largo: 1.60cm<br>Ancho: 0.20<br>Cluster: 0",
          "Largo: 1.60cm<br>Ancho: 0.20<br>Cluster: 0",
          "Largo: 1.50cm<br>Ancho: 0.40<br>Cluster: 0",
          "Largo: 1.50cm<br>Ancho: 0.10<br>Cluster: 0",
          "Largo: 1.40cm<br>Ancho: 0.20<br>Cluster: 0",
          "Largo: 1.50cm<br>Ancho: 0.20<br>Cluster: 0",
          "Largo: 1.20cm<br>Ancho: 0.20<br>Cluster: 0",
          "Largo: 1.30cm<br>Ancho: 0.20<br>Cluster: 0",
          "Largo: 1.40cm<br>Ancho: 0.10<br>Cluster: 0",
          "Largo: 1.30cm<br>Ancho: 0.20<br>Cluster: 0",
          "Largo: 1.50cm<br>Ancho: 0.20<br>Cluster: 0",
          "Largo: 1.30cm<br>Ancho: 0.30<br>Cluster: 0",
          "Largo: 1.30cm<br>Ancho: 0.30<br>Cluster: 0",
          "Largo: 1.30cm<br>Ancho: 0.20<br>Cluster: 0",
          "Largo: 1.60cm<br>Ancho: 0.60<br>Cluster: 0",
          "Largo: 1.90cm<br>Ancho: 0.40<br>Cluster: 0",
          "Largo: 1.40cm<br>Ancho: 0.30<br>Cluster: 0",
          "Largo: 1.60cm<br>Ancho: 0.20<br>Cluster: 0",
          "Largo: 1.40cm<br>Ancho: 0.20<br>Cluster: 0",
          "Largo: 1.50cm<br>Ancho: 0.20<br>Cluster: 0",
          "Largo: 1.40cm<br>Ancho: 0.20<br>Cluster: 0",
          "Largo: 4.70cm<br>Ancho: 1.40<br>Cluster: 2",
          "Largo: 4.50cm<br>Ancho: 1.50<br>Cluster: 2",
          "Largo: 4.90cm<br>Ancho: 1.50<br>Cluster: 2",
          "Largo: 4.00cm<br>Ancho: 1.30<br>Cluster: 2",
          "Largo: 4.60cm<br>Ancho: 1.50<br>Cluster: 2",
          "Largo: 4.50cm<br>Ancho: 1.30<br>Cluster: 2",
          "Largo: 4.70cm<br>Ancho: 1.60<br>Cluster: 2",
          "Largo: 3.30cm<br>Ancho: 1.00<br>Cluster: 2",
          "Largo: 4.60cm<br>Ancho: 1.30<br>Cluster: 2",
          "Largo: 3.90cm<br>Ancho: 1.40<br>Cluster: 2",
          "Largo: 3.50cm<br>Ancho: 1.00<br>Cluster: 2",
          "Largo: 4.20cm<br>Ancho: 1.50<br>Cluster: 2",
          "Largo: 4.00cm<br>Ancho: 1.00<br>Cluster: 2",
          "Largo: 4.70cm<br>Ancho: 1.40<br>Cluster: 2",
          "Largo: 3.60cm<br>Ancho: 1.30<br>Cluster: 2",
          "Largo: 4.40cm<br>Ancho: 1.40<br>Cluster: 2",
          "Largo: 4.50cm<br>Ancho: 1.50<br>Cluster: 2",
          "Largo: 4.10cm<br>Ancho: 1.00<br>Cluster: 2",
          "Largo: 4.50cm<br>Ancho: 1.50<br>Cluster: 2",
          "Largo: 3.90cm<br>Ancho: 1.10<br>Cluster: 2",
          "Largo: 4.80cm<br>Ancho: 1.80<br>Cluster: 2",
          "Largo: 4.00cm<br>Ancho: 1.30<br>Cluster: 2",
          "Largo: 4.90cm<br>Ancho: 1.50<br>Cluster: 2",
          "Largo: 4.70cm<br>Ancho: 1.20<br>Cluster: 2",
          "Largo: 4.30cm<br>Ancho: 1.30<br>Cluster: 2",
          "Largo: 4.40cm<br>Ancho: 1.40<br>Cluster: 2",
          "Largo: 4.80cm<br>Ancho: 1.40<br>Cluster: 2",
          "Largo: 5.00cm<br>Ancho: 1.70<br>Cluster: 1",
          "Largo: 4.50cm<br>Ancho: 1.50<br>Cluster: 2",
          "Largo: 3.50cm<br>Ancho: 1.00<br>Cluster: 2",
          "Largo: 3.80cm<br>Ancho: 1.10<br>Cluster: 2",
          "Largo: 3.70cm<br>Ancho: 1.00<br>Cluster: 2",
          "Largo: 3.90cm<br>Ancho: 1.20<br>Cluster: 2",
          "Largo: 5.10cm<br>Ancho: 1.60<br>Cluster: 1",
          "Largo: 4.50cm<br>Ancho: 1.50<br>Cluster: 2",
          "Largo: 4.50cm<br>Ancho: 1.60<br>Cluster: 2",
          "Largo: 4.70cm<br>Ancho: 1.50<br>Cluster: 2",
          "Largo: 4.40cm<br>Ancho: 1.30<br>Cluster: 2",
          "Largo: 4.10cm<br>Ancho: 1.30<br>Cluster: 2",
          "Largo: 4.00cm<br>Ancho: 1.30<br>Cluster: 2",
          "Largo: 4.40cm<br>Ancho: 1.20<br>Cluster: 2",
          "Largo: 4.60cm<br>Ancho: 1.40<br>Cluster: 2",
          "Largo: 4.00cm<br>Ancho: 1.20<br>Cluster: 2",
          "Largo: 3.30cm<br>Ancho: 1.00<br>Cluster: 2",
          "Largo: 4.20cm<br>Ancho: 1.30<br>Cluster: 2",
          "Largo: 4.20cm<br>Ancho: 1.20<br>Cluster: 2",
          "Largo: 4.20cm<br>Ancho: 1.30<br>Cluster: 2",
          "Largo: 4.30cm<br>Ancho: 1.30<br>Cluster: 2",
          "Largo: 3.00cm<br>Ancho: 1.10<br>Cluster: 2",
          "Largo: 4.10cm<br>Ancho: 1.30<br>Cluster: 2",
          "Largo: 6.00cm<br>Ancho: 2.50<br>Cluster: 1",
          "Largo: 5.10cm<br>Ancho: 1.90<br>Cluster: 1",
          "Largo: 5.90cm<br>Ancho: 2.10<br>Cluster: 1",
          "Largo: 5.60cm<br>Ancho: 1.80<br>Cluster: 1",
          "Largo: 5.80cm<br>Ancho: 2.20<br>Cluster: 1",
          "Largo: 6.60cm<br>Ancho: 2.10<br>Cluster: 1",
          "Largo: 4.50cm<br>Ancho: 1.70<br>Cluster: 2",
          "Largo: 6.30cm<br>Ancho: 1.80<br>Cluster: 1",
          "Largo: 5.80cm<br>Ancho: 1.80<br>Cluster: 1",
          "Largo: 6.10cm<br>Ancho: 2.50<br>Cluster: 1",
          "Largo: 5.10cm<br>Ancho: 2.00<br>Cluster: 1",
          "Largo: 5.30cm<br>Ancho: 1.90<br>Cluster: 1",
          "Largo: 5.50cm<br>Ancho: 2.10<br>Cluster: 1",
          "Largo: 5.00cm<br>Ancho: 2.00<br>Cluster: 1",
          "Largo: 5.10cm<br>Ancho: 2.40<br>Cluster: 1",
          "Largo: 5.30cm<br>Ancho: 2.30<br>Cluster: 1",
          "Largo: 5.50cm<br>Ancho: 1.80<br>Cluster: 1",
          "Largo: 6.70cm<br>Ancho: 2.20<br>Cluster: 1",
          "Largo: 6.90cm<br>Ancho: 2.30<br>Cluster: 1",
          "Largo: 5.00cm<br>Ancho: 1.50<br>Cluster: 2",
          "Largo: 5.70cm<br>Ancho: 2.30<br>Cluster: 1",
          "Largo: 4.90cm<br>Ancho: 2.00<br>Cluster: 1",
          "Largo: 6.70cm<br>Ancho: 2.00<br>Cluster: 1",
          "Largo: 4.90cm<br>Ancho: 1.80<br>Cluster: 1",
          "Largo: 5.70cm<br>Ancho: 2.10<br>Cluster: 1",
          "Largo: 6.00cm<br>Ancho: 1.80<br>Cluster: 1",
          "Largo: 4.80cm<br>Ancho: 1.80<br>Cluster: 2",
          "Largo: 4.90cm<br>Ancho: 1.80<br>Cluster: 1",
          "Largo: 5.60cm<br>Ancho: 2.10<br>Cluster: 1",
          "Largo: 5.80cm<br>Ancho: 1.60<br>Cluster: 1",
          "Largo: 6.10cm<br>Ancho: 1.90<br>Cluster: 1",
          "Largo: 6.40cm<br>Ancho: 2.00<br>Cluster: 1",
          "Largo: 5.60cm<br>Ancho: 2.20<br>Cluster: 1",
          "Largo: 5.10cm<br>Ancho: 1.50<br>Cluster: 1",
          "Largo: 5.60cm<br>Ancho: 1.40<br>Cluster: 1",
          "Largo: 6.10cm<br>Ancho: 2.30<br>Cluster: 1",
          "Largo: 5.60cm<br>Ancho: 2.40<br>Cluster: 1",
          "Largo: 5.50cm<br>Ancho: 1.80<br>Cluster: 1",
          "Largo: 4.80cm<br>Ancho: 1.80<br>Cluster: 2",
          "Largo: 5.40cm<br>Ancho: 2.10<br>Cluster: 1",
          "Largo: 5.60cm<br>Ancho: 2.40<br>Cluster: 1",
          "Largo: 5.10cm<br>Ancho: 2.30<br>Cluster: 1",
          "Largo: 5.10cm<br>Ancho: 1.90<br>Cluster: 1",
          "Largo: 5.90cm<br>Ancho: 2.30<br>Cluster: 1",
          "Largo: 5.70cm<br>Ancho: 2.50<br>Cluster: 1",
          "Largo: 5.20cm<br>Ancho: 2.30<br>Cluster: 1",
          "Largo: 5.00cm<br>Ancho: 1.90<br>Cluster: 1",
          "Largo: 5.20cm<br>Ancho: 2.00<br>Cluster: 1",
          "Largo: 5.40cm<br>Ancho: 2.30<br>Cluster: 1",
          "Largo: 5.10cm<br>Ancho: 1.80<br>Cluster: 1"
         ],
         "type": "scatter",
         "x": [
          1.4,
          1.4,
          1.3,
          1.5,
          1.4,
          1.7,
          1.4,
          1.5,
          1.4,
          1.5,
          1.5,
          1.6,
          1.4,
          1.1,
          1.2,
          1.5,
          1.3,
          1.4,
          1.7,
          1.5,
          1.7,
          1.5,
          1,
          1.7,
          1.9,
          1.6,
          1.6,
          1.5,
          1.4,
          1.6,
          1.6,
          1.5,
          1.5,
          1.4,
          1.5,
          1.2,
          1.3,
          1.4,
          1.3,
          1.5,
          1.3,
          1.3,
          1.3,
          1.6,
          1.9,
          1.4,
          1.6,
          1.4,
          1.5,
          1.4,
          4.7,
          4.5,
          4.9,
          4,
          4.6,
          4.5,
          4.7,
          3.3,
          4.6,
          3.9,
          3.5,
          4.2,
          4,
          4.7,
          3.6,
          4.4,
          4.5,
          4.1,
          4.5,
          3.9,
          4.8,
          4,
          4.9,
          4.7,
          4.3,
          4.4,
          4.8,
          5,
          4.5,
          3.5,
          3.8,
          3.7,
          3.9,
          5.1,
          4.5,
          4.5,
          4.7,
          4.4,
          4.1,
          4,
          4.4,
          4.6,
          4,
          3.3,
          4.2,
          4.2,
          4.2,
          4.3,
          3,
          4.1,
          6,
          5.1,
          5.9,
          5.6,
          5.8,
          6.6,
          4.5,
          6.3,
          5.8,
          6.1,
          5.1,
          5.3,
          5.5,
          5,
          5.1,
          5.3,
          5.5,
          6.7,
          6.9,
          5,
          5.7,
          4.9,
          6.7,
          4.9,
          5.7,
          6,
          4.8,
          4.9,
          5.6,
          5.8,
          6.1,
          6.4,
          5.6,
          5.1,
          5.6,
          6.1,
          5.6,
          5.5,
          4.8,
          5.4,
          5.6,
          5.1,
          5.1,
          5.9,
          5.7,
          5.2,
          5,
          5.2,
          5.4,
          5.1
         ],
         "y": [
          0.2,
          0.2,
          0.2,
          0.2,
          0.2,
          0.4,
          0.3,
          0.2,
          0.2,
          0.1,
          0.2,
          0.2,
          0.1,
          0.1,
          0.2,
          0.4,
          0.4,
          0.3,
          0.3,
          0.3,
          0.2,
          0.4,
          0.2,
          0.5,
          0.2,
          0.2,
          0.4,
          0.2,
          0.2,
          0.2,
          0.2,
          0.4,
          0.1,
          0.2,
          0.2,
          0.2,
          0.2,
          0.1,
          0.2,
          0.2,
          0.3,
          0.3,
          0.2,
          0.6,
          0.4,
          0.3,
          0.2,
          0.2,
          0.2,
          0.2,
          1.4,
          1.5,
          1.5,
          1.3,
          1.5,
          1.3,
          1.6,
          1,
          1.3,
          1.4,
          1,
          1.5,
          1,
          1.4,
          1.3,
          1.4,
          1.5,
          1,
          1.5,
          1.1,
          1.8,
          1.3,
          1.5,
          1.2,
          1.3,
          1.4,
          1.4,
          1.7,
          1.5,
          1,
          1.1,
          1,
          1.2,
          1.6,
          1.5,
          1.6,
          1.5,
          1.3,
          1.3,
          1.3,
          1.2,
          1.4,
          1.2,
          1,
          1.3,
          1.2,
          1.3,
          1.3,
          1.1,
          1.3,
          2.5,
          1.9,
          2.1,
          1.8,
          2.2,
          2.1,
          1.7,
          1.8,
          1.8,
          2.5,
          2,
          1.9,
          2.1,
          2,
          2.4,
          2.3,
          1.8,
          2.2,
          2.3,
          1.5,
          2.3,
          2,
          2,
          1.8,
          2.1,
          1.8,
          1.8,
          1.8,
          2.1,
          1.6,
          1.9,
          2,
          2.2,
          1.5,
          1.4,
          2.3,
          2.4,
          1.8,
          1.8,
          2.1,
          2.4,
          2.3,
          1.9,
          2.3,
          2.5,
          2.3,
          1.9,
          2,
          2.3,
          1.8
         ]
        },
        {
         "hoverinfo": "text",
         "marker": {
          "color": [
           "green",
           "red",
           "orange"
          ],
          "line": {
           "color": "yellow",
           "width": 1
          },
          "size": 10,
          "symbol": 202
         },
         "mode": "markers",
         "name": "Centroides",
         "text": [
          "CENTROIDE<br>Largo: 1.40cm<br>Ancho: 0.20<br>Cluster: 0",
          "CENTROIDE<br>Largo: 1.40cm<br>Ancho: 0.20<br>Cluster: 0",
          "CENTROIDE<br>Largo: 1.30cm<br>Ancho: 0.20<br>Cluster: 0",
          "CENTROIDE<br>Largo: 1.50cm<br>Ancho: 0.20<br>Cluster: 0",
          "CENTROIDE<br>Largo: 1.40cm<br>Ancho: 0.20<br>Cluster: 0",
          "CENTROIDE<br>Largo: 1.70cm<br>Ancho: 0.40<br>Cluster: 0",
          "CENTROIDE<br>Largo: 1.40cm<br>Ancho: 0.30<br>Cluster: 0",
          "CENTROIDE<br>Largo: 1.50cm<br>Ancho: 0.20<br>Cluster: 0",
          "CENTROIDE<br>Largo: 1.40cm<br>Ancho: 0.20<br>Cluster: 0",
          "CENTROIDE<br>Largo: 1.50cm<br>Ancho: 0.10<br>Cluster: 0",
          "CENTROIDE<br>Largo: 1.50cm<br>Ancho: 0.20<br>Cluster: 0",
          "CENTROIDE<br>Largo: 1.60cm<br>Ancho: 0.20<br>Cluster: 0",
          "CENTROIDE<br>Largo: 1.40cm<br>Ancho: 0.10<br>Cluster: 0",
          "CENTROIDE<br>Largo: 1.10cm<br>Ancho: 0.10<br>Cluster: 0",
          "CENTROIDE<br>Largo: 1.20cm<br>Ancho: 0.20<br>Cluster: 0",
          "CENTROIDE<br>Largo: 1.50cm<br>Ancho: 0.40<br>Cluster: 0",
          "CENTROIDE<br>Largo: 1.30cm<br>Ancho: 0.40<br>Cluster: 0",
          "CENTROIDE<br>Largo: 1.40cm<br>Ancho: 0.30<br>Cluster: 0",
          "CENTROIDE<br>Largo: 1.70cm<br>Ancho: 0.30<br>Cluster: 0",
          "CENTROIDE<br>Largo: 1.50cm<br>Ancho: 0.30<br>Cluster: 0",
          "CENTROIDE<br>Largo: 1.70cm<br>Ancho: 0.20<br>Cluster: 0",
          "CENTROIDE<br>Largo: 1.50cm<br>Ancho: 0.40<br>Cluster: 0",
          "CENTROIDE<br>Largo: 1.00cm<br>Ancho: 0.20<br>Cluster: 0",
          "CENTROIDE<br>Largo: 1.70cm<br>Ancho: 0.50<br>Cluster: 0",
          "CENTROIDE<br>Largo: 1.90cm<br>Ancho: 0.20<br>Cluster: 0",
          "CENTROIDE<br>Largo: 1.60cm<br>Ancho: 0.20<br>Cluster: 0",
          "CENTROIDE<br>Largo: 1.60cm<br>Ancho: 0.40<br>Cluster: 0",
          "CENTROIDE<br>Largo: 1.50cm<br>Ancho: 0.20<br>Cluster: 0",
          "CENTROIDE<br>Largo: 1.40cm<br>Ancho: 0.20<br>Cluster: 0",
          "CENTROIDE<br>Largo: 1.60cm<br>Ancho: 0.20<br>Cluster: 0",
          "CENTROIDE<br>Largo: 1.60cm<br>Ancho: 0.20<br>Cluster: 0",
          "CENTROIDE<br>Largo: 1.50cm<br>Ancho: 0.40<br>Cluster: 0",
          "CENTROIDE<br>Largo: 1.50cm<br>Ancho: 0.10<br>Cluster: 0",
          "CENTROIDE<br>Largo: 1.40cm<br>Ancho: 0.20<br>Cluster: 0",
          "CENTROIDE<br>Largo: 1.50cm<br>Ancho: 0.20<br>Cluster: 0",
          "CENTROIDE<br>Largo: 1.20cm<br>Ancho: 0.20<br>Cluster: 0",
          "CENTROIDE<br>Largo: 1.30cm<br>Ancho: 0.20<br>Cluster: 0",
          "CENTROIDE<br>Largo: 1.40cm<br>Ancho: 0.10<br>Cluster: 0",
          "CENTROIDE<br>Largo: 1.30cm<br>Ancho: 0.20<br>Cluster: 0",
          "CENTROIDE<br>Largo: 1.50cm<br>Ancho: 0.20<br>Cluster: 0",
          "CENTROIDE<br>Largo: 1.30cm<br>Ancho: 0.30<br>Cluster: 0",
          "CENTROIDE<br>Largo: 1.30cm<br>Ancho: 0.30<br>Cluster: 0",
          "CENTROIDE<br>Largo: 1.30cm<br>Ancho: 0.20<br>Cluster: 0",
          "CENTROIDE<br>Largo: 1.60cm<br>Ancho: 0.60<br>Cluster: 0",
          "CENTROIDE<br>Largo: 1.90cm<br>Ancho: 0.40<br>Cluster: 0",
          "CENTROIDE<br>Largo: 1.40cm<br>Ancho: 0.30<br>Cluster: 0",
          "CENTROIDE<br>Largo: 1.60cm<br>Ancho: 0.20<br>Cluster: 0",
          "CENTROIDE<br>Largo: 1.40cm<br>Ancho: 0.20<br>Cluster: 0",
          "CENTROIDE<br>Largo: 1.50cm<br>Ancho: 0.20<br>Cluster: 0",
          "CENTROIDE<br>Largo: 1.40cm<br>Ancho: 0.20<br>Cluster: 0",
          "CENTROIDE<br>Largo: 4.70cm<br>Ancho: 1.40<br>Cluster: 2",
          "CENTROIDE<br>Largo: 4.50cm<br>Ancho: 1.50<br>Cluster: 2",
          "CENTROIDE<br>Largo: 4.90cm<br>Ancho: 1.50<br>Cluster: 2",
          "CENTROIDE<br>Largo: 4.00cm<br>Ancho: 1.30<br>Cluster: 2",
          "CENTROIDE<br>Largo: 4.60cm<br>Ancho: 1.50<br>Cluster: 2",
          "CENTROIDE<br>Largo: 4.50cm<br>Ancho: 1.30<br>Cluster: 2",
          "CENTROIDE<br>Largo: 4.70cm<br>Ancho: 1.60<br>Cluster: 2",
          "CENTROIDE<br>Largo: 3.30cm<br>Ancho: 1.00<br>Cluster: 2",
          "CENTROIDE<br>Largo: 4.60cm<br>Ancho: 1.30<br>Cluster: 2",
          "CENTROIDE<br>Largo: 3.90cm<br>Ancho: 1.40<br>Cluster: 2",
          "CENTROIDE<br>Largo: 3.50cm<br>Ancho: 1.00<br>Cluster: 2",
          "CENTROIDE<br>Largo: 4.20cm<br>Ancho: 1.50<br>Cluster: 2",
          "CENTROIDE<br>Largo: 4.00cm<br>Ancho: 1.00<br>Cluster: 2",
          "CENTROIDE<br>Largo: 4.70cm<br>Ancho: 1.40<br>Cluster: 2",
          "CENTROIDE<br>Largo: 3.60cm<br>Ancho: 1.30<br>Cluster: 2",
          "CENTROIDE<br>Largo: 4.40cm<br>Ancho: 1.40<br>Cluster: 2",
          "CENTROIDE<br>Largo: 4.50cm<br>Ancho: 1.50<br>Cluster: 2",
          "CENTROIDE<br>Largo: 4.10cm<br>Ancho: 1.00<br>Cluster: 2",
          "CENTROIDE<br>Largo: 4.50cm<br>Ancho: 1.50<br>Cluster: 2",
          "CENTROIDE<br>Largo: 3.90cm<br>Ancho: 1.10<br>Cluster: 2",
          "CENTROIDE<br>Largo: 4.80cm<br>Ancho: 1.80<br>Cluster: 2",
          "CENTROIDE<br>Largo: 4.00cm<br>Ancho: 1.30<br>Cluster: 2",
          "CENTROIDE<br>Largo: 4.90cm<br>Ancho: 1.50<br>Cluster: 2",
          "CENTROIDE<br>Largo: 4.70cm<br>Ancho: 1.20<br>Cluster: 2",
          "CENTROIDE<br>Largo: 4.30cm<br>Ancho: 1.30<br>Cluster: 2",
          "CENTROIDE<br>Largo: 4.40cm<br>Ancho: 1.40<br>Cluster: 2",
          "CENTROIDE<br>Largo: 4.80cm<br>Ancho: 1.40<br>Cluster: 2",
          "CENTROIDE<br>Largo: 5.00cm<br>Ancho: 1.70<br>Cluster: 1",
          "CENTROIDE<br>Largo: 4.50cm<br>Ancho: 1.50<br>Cluster: 2",
          "CENTROIDE<br>Largo: 3.50cm<br>Ancho: 1.00<br>Cluster: 2",
          "CENTROIDE<br>Largo: 3.80cm<br>Ancho: 1.10<br>Cluster: 2",
          "CENTROIDE<br>Largo: 3.70cm<br>Ancho: 1.00<br>Cluster: 2",
          "CENTROIDE<br>Largo: 3.90cm<br>Ancho: 1.20<br>Cluster: 2",
          "CENTROIDE<br>Largo: 5.10cm<br>Ancho: 1.60<br>Cluster: 1",
          "CENTROIDE<br>Largo: 4.50cm<br>Ancho: 1.50<br>Cluster: 2",
          "CENTROIDE<br>Largo: 4.50cm<br>Ancho: 1.60<br>Cluster: 2",
          "CENTROIDE<br>Largo: 4.70cm<br>Ancho: 1.50<br>Cluster: 2",
          "CENTROIDE<br>Largo: 4.40cm<br>Ancho: 1.30<br>Cluster: 2",
          "CENTROIDE<br>Largo: 4.10cm<br>Ancho: 1.30<br>Cluster: 2",
          "CENTROIDE<br>Largo: 4.00cm<br>Ancho: 1.30<br>Cluster: 2",
          "CENTROIDE<br>Largo: 4.40cm<br>Ancho: 1.20<br>Cluster: 2",
          "CENTROIDE<br>Largo: 4.60cm<br>Ancho: 1.40<br>Cluster: 2",
          "CENTROIDE<br>Largo: 4.00cm<br>Ancho: 1.20<br>Cluster: 2",
          "CENTROIDE<br>Largo: 3.30cm<br>Ancho: 1.00<br>Cluster: 2",
          "CENTROIDE<br>Largo: 4.20cm<br>Ancho: 1.30<br>Cluster: 2",
          "CENTROIDE<br>Largo: 4.20cm<br>Ancho: 1.20<br>Cluster: 2",
          "CENTROIDE<br>Largo: 4.20cm<br>Ancho: 1.30<br>Cluster: 2",
          "CENTROIDE<br>Largo: 4.30cm<br>Ancho: 1.30<br>Cluster: 2",
          "CENTROIDE<br>Largo: 3.00cm<br>Ancho: 1.10<br>Cluster: 2",
          "CENTROIDE<br>Largo: 4.10cm<br>Ancho: 1.30<br>Cluster: 2",
          "CENTROIDE<br>Largo: 6.00cm<br>Ancho: 2.50<br>Cluster: 1",
          "CENTROIDE<br>Largo: 5.10cm<br>Ancho: 1.90<br>Cluster: 1",
          "CENTROIDE<br>Largo: 5.90cm<br>Ancho: 2.10<br>Cluster: 1",
          "CENTROIDE<br>Largo: 5.60cm<br>Ancho: 1.80<br>Cluster: 1",
          "CENTROIDE<br>Largo: 5.80cm<br>Ancho: 2.20<br>Cluster: 1",
          "CENTROIDE<br>Largo: 6.60cm<br>Ancho: 2.10<br>Cluster: 1",
          "CENTROIDE<br>Largo: 4.50cm<br>Ancho: 1.70<br>Cluster: 2",
          "CENTROIDE<br>Largo: 6.30cm<br>Ancho: 1.80<br>Cluster: 1",
          "CENTROIDE<br>Largo: 5.80cm<br>Ancho: 1.80<br>Cluster: 1",
          "CENTROIDE<br>Largo: 6.10cm<br>Ancho: 2.50<br>Cluster: 1",
          "CENTROIDE<br>Largo: 5.10cm<br>Ancho: 2.00<br>Cluster: 1",
          "CENTROIDE<br>Largo: 5.30cm<br>Ancho: 1.90<br>Cluster: 1",
          "CENTROIDE<br>Largo: 5.50cm<br>Ancho: 2.10<br>Cluster: 1",
          "CENTROIDE<br>Largo: 5.00cm<br>Ancho: 2.00<br>Cluster: 1",
          "CENTROIDE<br>Largo: 5.10cm<br>Ancho: 2.40<br>Cluster: 1",
          "CENTROIDE<br>Largo: 5.30cm<br>Ancho: 2.30<br>Cluster: 1",
          "CENTROIDE<br>Largo: 5.50cm<br>Ancho: 1.80<br>Cluster: 1",
          "CENTROIDE<br>Largo: 6.70cm<br>Ancho: 2.20<br>Cluster: 1",
          "CENTROIDE<br>Largo: 6.90cm<br>Ancho: 2.30<br>Cluster: 1",
          "CENTROIDE<br>Largo: 5.00cm<br>Ancho: 1.50<br>Cluster: 2",
          "CENTROIDE<br>Largo: 5.70cm<br>Ancho: 2.30<br>Cluster: 1",
          "CENTROIDE<br>Largo: 4.90cm<br>Ancho: 2.00<br>Cluster: 1",
          "CENTROIDE<br>Largo: 6.70cm<br>Ancho: 2.00<br>Cluster: 1",
          "CENTROIDE<br>Largo: 4.90cm<br>Ancho: 1.80<br>Cluster: 1",
          "CENTROIDE<br>Largo: 5.70cm<br>Ancho: 2.10<br>Cluster: 1",
          "CENTROIDE<br>Largo: 6.00cm<br>Ancho: 1.80<br>Cluster: 1",
          "CENTROIDE<br>Largo: 4.80cm<br>Ancho: 1.80<br>Cluster: 2",
          "CENTROIDE<br>Largo: 4.90cm<br>Ancho: 1.80<br>Cluster: 1",
          "CENTROIDE<br>Largo: 5.60cm<br>Ancho: 2.10<br>Cluster: 1",
          "CENTROIDE<br>Largo: 5.80cm<br>Ancho: 1.60<br>Cluster: 1",
          "CENTROIDE<br>Largo: 6.10cm<br>Ancho: 1.90<br>Cluster: 1",
          "CENTROIDE<br>Largo: 6.40cm<br>Ancho: 2.00<br>Cluster: 1",
          "CENTROIDE<br>Largo: 5.60cm<br>Ancho: 2.20<br>Cluster: 1",
          "CENTROIDE<br>Largo: 5.10cm<br>Ancho: 1.50<br>Cluster: 1",
          "CENTROIDE<br>Largo: 5.60cm<br>Ancho: 1.40<br>Cluster: 1",
          "CENTROIDE<br>Largo: 6.10cm<br>Ancho: 2.30<br>Cluster: 1",
          "CENTROIDE<br>Largo: 5.60cm<br>Ancho: 2.40<br>Cluster: 1",
          "CENTROIDE<br>Largo: 5.50cm<br>Ancho: 1.80<br>Cluster: 1",
          "CENTROIDE<br>Largo: 4.80cm<br>Ancho: 1.80<br>Cluster: 2",
          "CENTROIDE<br>Largo: 5.40cm<br>Ancho: 2.10<br>Cluster: 1",
          "CENTROIDE<br>Largo: 5.60cm<br>Ancho: 2.40<br>Cluster: 1",
          "CENTROIDE<br>Largo: 5.10cm<br>Ancho: 2.30<br>Cluster: 1",
          "CENTROIDE<br>Largo: 5.10cm<br>Ancho: 1.90<br>Cluster: 1",
          "CENTROIDE<br>Largo: 5.90cm<br>Ancho: 2.30<br>Cluster: 1",
          "CENTROIDE<br>Largo: 5.70cm<br>Ancho: 2.50<br>Cluster: 1",
          "CENTROIDE<br>Largo: 5.20cm<br>Ancho: 2.30<br>Cluster: 1",
          "CENTROIDE<br>Largo: 5.00cm<br>Ancho: 1.90<br>Cluster: 1",
          "CENTROIDE<br>Largo: 5.20cm<br>Ancho: 2.00<br>Cluster: 1",
          "CENTROIDE<br>Largo: 5.40cm<br>Ancho: 2.30<br>Cluster: 1",
          "CENTROIDE<br>Largo: 5.10cm<br>Ancho: 1.80<br>Cluster: 1"
         ],
         "type": "scatter",
         "x": [
          1.4620000000000002,
          5.595833333333333,
          4.269230769230769
         ],
         "y": [
          0.24600000000000055,
          2.0375,
          1.3423076923076924
         ]
        }
       ],
       "layout": {
        "template": {
         "data": {
          "bar": [
           {
            "error_x": {
             "color": "#2a3f5f"
            },
            "error_y": {
             "color": "#2a3f5f"
            },
            "marker": {
             "line": {
              "color": "#E5ECF6",
              "width": 0.5
             }
            },
            "type": "bar"
           }
          ],
          "barpolar": [
           {
            "marker": {
             "line": {
              "color": "#E5ECF6",
              "width": 0.5
             }
            },
            "type": "barpolar"
           }
          ],
          "carpet": [
           {
            "aaxis": {
             "endlinecolor": "#2a3f5f",
             "gridcolor": "white",
             "linecolor": "white",
             "minorgridcolor": "white",
             "startlinecolor": "#2a3f5f"
            },
            "baxis": {
             "endlinecolor": "#2a3f5f",
             "gridcolor": "white",
             "linecolor": "white",
             "minorgridcolor": "white",
             "startlinecolor": "#2a3f5f"
            },
            "type": "carpet"
           }
          ],
          "choropleth": [
           {
            "colorbar": {
             "outlinewidth": 0,
             "ticks": ""
            },
            "type": "choropleth"
           }
          ],
          "contour": [
           {
            "colorbar": {
             "outlinewidth": 0,
             "ticks": ""
            },
            "colorscale": [
             [
              0,
              "#0d0887"
             ],
             [
              0.1111111111111111,
              "#46039f"
             ],
             [
              0.2222222222222222,
              "#7201a8"
             ],
             [
              0.3333333333333333,
              "#9c179e"
             ],
             [
              0.4444444444444444,
              "#bd3786"
             ],
             [
              0.5555555555555556,
              "#d8576b"
             ],
             [
              0.6666666666666666,
              "#ed7953"
             ],
             [
              0.7777777777777778,
              "#fb9f3a"
             ],
             [
              0.8888888888888888,
              "#fdca26"
             ],
             [
              1,
              "#f0f921"
             ]
            ],
            "type": "contour"
           }
          ],
          "contourcarpet": [
           {
            "colorbar": {
             "outlinewidth": 0,
             "ticks": ""
            },
            "type": "contourcarpet"
           }
          ],
          "heatmap": [
           {
            "colorbar": {
             "outlinewidth": 0,
             "ticks": ""
            },
            "colorscale": [
             [
              0,
              "#0d0887"
             ],
             [
              0.1111111111111111,
              "#46039f"
             ],
             [
              0.2222222222222222,
              "#7201a8"
             ],
             [
              0.3333333333333333,
              "#9c179e"
             ],
             [
              0.4444444444444444,
              "#bd3786"
             ],
             [
              0.5555555555555556,
              "#d8576b"
             ],
             [
              0.6666666666666666,
              "#ed7953"
             ],
             [
              0.7777777777777778,
              "#fb9f3a"
             ],
             [
              0.8888888888888888,
              "#fdca26"
             ],
             [
              1,
              "#f0f921"
             ]
            ],
            "type": "heatmap"
           }
          ],
          "heatmapgl": [
           {
            "colorbar": {
             "outlinewidth": 0,
             "ticks": ""
            },
            "colorscale": [
             [
              0,
              "#0d0887"
             ],
             [
              0.1111111111111111,
              "#46039f"
             ],
             [
              0.2222222222222222,
              "#7201a8"
             ],
             [
              0.3333333333333333,
              "#9c179e"
             ],
             [
              0.4444444444444444,
              "#bd3786"
             ],
             [
              0.5555555555555556,
              "#d8576b"
             ],
             [
              0.6666666666666666,
              "#ed7953"
             ],
             [
              0.7777777777777778,
              "#fb9f3a"
             ],
             [
              0.8888888888888888,
              "#fdca26"
             ],
             [
              1,
              "#f0f921"
             ]
            ],
            "type": "heatmapgl"
           }
          ],
          "histogram": [
           {
            "marker": {
             "colorbar": {
              "outlinewidth": 0,
              "ticks": ""
             }
            },
            "type": "histogram"
           }
          ],
          "histogram2d": [
           {
            "colorbar": {
             "outlinewidth": 0,
             "ticks": ""
            },
            "colorscale": [
             [
              0,
              "#0d0887"
             ],
             [
              0.1111111111111111,
              "#46039f"
             ],
             [
              0.2222222222222222,
              "#7201a8"
             ],
             [
              0.3333333333333333,
              "#9c179e"
             ],
             [
              0.4444444444444444,
              "#bd3786"
             ],
             [
              0.5555555555555556,
              "#d8576b"
             ],
             [
              0.6666666666666666,
              "#ed7953"
             ],
             [
              0.7777777777777778,
              "#fb9f3a"
             ],
             [
              0.8888888888888888,
              "#fdca26"
             ],
             [
              1,
              "#f0f921"
             ]
            ],
            "type": "histogram2d"
           }
          ],
          "histogram2dcontour": [
           {
            "colorbar": {
             "outlinewidth": 0,
             "ticks": ""
            },
            "colorscale": [
             [
              0,
              "#0d0887"
             ],
             [
              0.1111111111111111,
              "#46039f"
             ],
             [
              0.2222222222222222,
              "#7201a8"
             ],
             [
              0.3333333333333333,
              "#9c179e"
             ],
             [
              0.4444444444444444,
              "#bd3786"
             ],
             [
              0.5555555555555556,
              "#d8576b"
             ],
             [
              0.6666666666666666,
              "#ed7953"
             ],
             [
              0.7777777777777778,
              "#fb9f3a"
             ],
             [
              0.8888888888888888,
              "#fdca26"
             ],
             [
              1,
              "#f0f921"
             ]
            ],
            "type": "histogram2dcontour"
           }
          ],
          "mesh3d": [
           {
            "colorbar": {
             "outlinewidth": 0,
             "ticks": ""
            },
            "type": "mesh3d"
           }
          ],
          "parcoords": [
           {
            "line": {
             "colorbar": {
              "outlinewidth": 0,
              "ticks": ""
             }
            },
            "type": "parcoords"
           }
          ],
          "pie": [
           {
            "automargin": true,
            "type": "pie"
           }
          ],
          "scatter": [
           {
            "marker": {
             "colorbar": {
              "outlinewidth": 0,
              "ticks": ""
             }
            },
            "type": "scatter"
           }
          ],
          "scatter3d": [
           {
            "line": {
             "colorbar": {
              "outlinewidth": 0,
              "ticks": ""
             }
            },
            "marker": {
             "colorbar": {
              "outlinewidth": 0,
              "ticks": ""
             }
            },
            "type": "scatter3d"
           }
          ],
          "scattercarpet": [
           {
            "marker": {
             "colorbar": {
              "outlinewidth": 0,
              "ticks": ""
             }
            },
            "type": "scattercarpet"
           }
          ],
          "scattergeo": [
           {
            "marker": {
             "colorbar": {
              "outlinewidth": 0,
              "ticks": ""
             }
            },
            "type": "scattergeo"
           }
          ],
          "scattergl": [
           {
            "marker": {
             "colorbar": {
              "outlinewidth": 0,
              "ticks": ""
             }
            },
            "type": "scattergl"
           }
          ],
          "scattermapbox": [
           {
            "marker": {
             "colorbar": {
              "outlinewidth": 0,
              "ticks": ""
             }
            },
            "type": "scattermapbox"
           }
          ],
          "scatterpolar": [
           {
            "marker": {
             "colorbar": {
              "outlinewidth": 0,
              "ticks": ""
             }
            },
            "type": "scatterpolar"
           }
          ],
          "scatterpolargl": [
           {
            "marker": {
             "colorbar": {
              "outlinewidth": 0,
              "ticks": ""
             }
            },
            "type": "scatterpolargl"
           }
          ],
          "scatterternary": [
           {
            "marker": {
             "colorbar": {
              "outlinewidth": 0,
              "ticks": ""
             }
            },
            "type": "scatterternary"
           }
          ],
          "surface": [
           {
            "colorbar": {
             "outlinewidth": 0,
             "ticks": ""
            },
            "colorscale": [
             [
              0,
              "#0d0887"
             ],
             [
              0.1111111111111111,
              "#46039f"
             ],
             [
              0.2222222222222222,
              "#7201a8"
             ],
             [
              0.3333333333333333,
              "#9c179e"
             ],
             [
              0.4444444444444444,
              "#bd3786"
             ],
             [
              0.5555555555555556,
              "#d8576b"
             ],
             [
              0.6666666666666666,
              "#ed7953"
             ],
             [
              0.7777777777777778,
              "#fb9f3a"
             ],
             [
              0.8888888888888888,
              "#fdca26"
             ],
             [
              1,
              "#f0f921"
             ]
            ],
            "type": "surface"
           }
          ],
          "table": [
           {
            "cells": {
             "fill": {
              "color": "#EBF0F8"
             },
             "line": {
              "color": "white"
             }
            },
            "header": {
             "fill": {
              "color": "#C8D4E3"
             },
             "line": {
              "color": "white"
             }
            },
            "type": "table"
           }
          ]
         },
         "layout": {
          "annotationdefaults": {
           "arrowcolor": "#2a3f5f",
           "arrowhead": 0,
           "arrowwidth": 1
          },
          "coloraxis": {
           "colorbar": {
            "outlinewidth": 0,
            "ticks": ""
           }
          },
          "colorscale": {
           "diverging": [
            [
             0,
             "#8e0152"
            ],
            [
             0.1,
             "#c51b7d"
            ],
            [
             0.2,
             "#de77ae"
            ],
            [
             0.3,
             "#f1b6da"
            ],
            [
             0.4,
             "#fde0ef"
            ],
            [
             0.5,
             "#f7f7f7"
            ],
            [
             0.6,
             "#e6f5d0"
            ],
            [
             0.7,
             "#b8e186"
            ],
            [
             0.8,
             "#7fbc41"
            ],
            [
             0.9,
             "#4d9221"
            ],
            [
             1,
             "#276419"
            ]
           ],
           "sequential": [
            [
             0,
             "#0d0887"
            ],
            [
             0.1111111111111111,
             "#46039f"
            ],
            [
             0.2222222222222222,
             "#7201a8"
            ],
            [
             0.3333333333333333,
             "#9c179e"
            ],
            [
             0.4444444444444444,
             "#bd3786"
            ],
            [
             0.5555555555555556,
             "#d8576b"
            ],
            [
             0.6666666666666666,
             "#ed7953"
            ],
            [
             0.7777777777777778,
             "#fb9f3a"
            ],
            [
             0.8888888888888888,
             "#fdca26"
            ],
            [
             1,
             "#f0f921"
            ]
           ],
           "sequentialminus": [
            [
             0,
             "#0d0887"
            ],
            [
             0.1111111111111111,
             "#46039f"
            ],
            [
             0.2222222222222222,
             "#7201a8"
            ],
            [
             0.3333333333333333,
             "#9c179e"
            ],
            [
             0.4444444444444444,
             "#bd3786"
            ],
            [
             0.5555555555555556,
             "#d8576b"
            ],
            [
             0.6666666666666666,
             "#ed7953"
            ],
            [
             0.7777777777777778,
             "#fb9f3a"
            ],
            [
             0.8888888888888888,
             "#fdca26"
            ],
            [
             1,
             "#f0f921"
            ]
           ]
          },
          "colorway": [
           "#636efa",
           "#EF553B",
           "#00cc96",
           "#ab63fa",
           "#FFA15A",
           "#19d3f3",
           "#FF6692",
           "#B6E880",
           "#FF97FF",
           "#FECB52"
          ],
          "font": {
           "color": "#2a3f5f"
          },
          "geo": {
           "bgcolor": "white",
           "lakecolor": "white",
           "landcolor": "#E5ECF6",
           "showlakes": true,
           "showland": true,
           "subunitcolor": "white"
          },
          "hoverlabel": {
           "align": "left"
          },
          "hovermode": "closest",
          "mapbox": {
           "style": "light"
          },
          "paper_bgcolor": "white",
          "plot_bgcolor": "#E5ECF6",
          "polar": {
           "angularaxis": {
            "gridcolor": "white",
            "linecolor": "white",
            "ticks": ""
           },
           "bgcolor": "#E5ECF6",
           "radialaxis": {
            "gridcolor": "white",
            "linecolor": "white",
            "ticks": ""
           }
          },
          "scene": {
           "xaxis": {
            "backgroundcolor": "#E5ECF6",
            "gridcolor": "white",
            "gridwidth": 2,
            "linecolor": "white",
            "showbackground": true,
            "ticks": "",
            "zerolinecolor": "white"
           },
           "yaxis": {
            "backgroundcolor": "#E5ECF6",
            "gridcolor": "white",
            "gridwidth": 2,
            "linecolor": "white",
            "showbackground": true,
            "ticks": "",
            "zerolinecolor": "white"
           },
           "zaxis": {
            "backgroundcolor": "#E5ECF6",
            "gridcolor": "white",
            "gridwidth": 2,
            "linecolor": "white",
            "showbackground": true,
            "ticks": "",
            "zerolinecolor": "white"
           }
          },
          "shapedefaults": {
           "line": {
            "color": "#2a3f5f"
           }
          },
          "ternary": {
           "aaxis": {
            "gridcolor": "white",
            "linecolor": "white",
            "ticks": ""
           },
           "baxis": {
            "gridcolor": "white",
            "linecolor": "white",
            "ticks": ""
           },
           "bgcolor": "#E5ECF6",
           "caxis": {
            "gridcolor": "white",
            "linecolor": "white",
            "ticks": ""
           }
          },
          "title": {
           "x": 0.05
          },
          "xaxis": {
           "automargin": true,
           "gridcolor": "white",
           "linecolor": "white",
           "ticks": "",
           "title": {
            "standoff": 15
           },
           "zerolinecolor": "white",
           "zerolinewidth": 2
          },
          "yaxis": {
           "automargin": true,
           "gridcolor": "white",
           "linecolor": "white",
           "ticks": "",
           "title": {
            "standoff": 15
           },
           "zerolinecolor": "white",
           "zerolinewidth": 2
          }
         }
        },
        "title": {
         "text": "Iris Clustering"
        },
        "xaxis": {
         "title": {
          "text": "Largo del Pétalo"
         }
        },
        "yaxis": {
         "title": {
          "text": "Ancho del Pétalo"
         }
        }
       }
      },
      "text/html": [
       "<div>\n",
       "        \n",
       "        \n",
       "            <div id=\"d7b13f5c-bf27-4818-bf1f-8bc1408e8b63\" class=\"plotly-graph-div\" style=\"height:525px; width:100%;\"></div>\n",
       "            <script type=\"text/javascript\">\n",
       "                require([\"plotly\"], function(Plotly) {\n",
       "                    window.PLOTLYENV=window.PLOTLYENV || {};\n",
       "                    \n",
       "                if (document.getElementById(\"d7b13f5c-bf27-4818-bf1f-8bc1408e8b63\")) {\n",
       "                    Plotly.newPlot(\n",
       "                        'd7b13f5c-bf27-4818-bf1f-8bc1408e8b63',\n",
       "                        [{\"hoverinfo\": \"text\", \"marker\": {\"color\": [\"green\", \"green\", \"green\", \"green\", \"green\", \"green\", \"green\", \"green\", \"green\", \"green\", \"green\", \"green\", \"green\", \"green\", \"green\", \"green\", \"green\", \"green\", \"green\", \"green\", \"green\", \"green\", \"green\", \"green\", \"green\", \"green\", \"green\", \"green\", \"green\", \"green\", \"green\", \"green\", \"green\", \"green\", \"green\", \"green\", \"green\", \"green\", \"green\", \"green\", \"green\", \"green\", \"green\", \"green\", \"green\", \"green\", \"green\", \"green\", \"green\", \"green\", \"orange\", \"orange\", \"orange\", \"orange\", \"orange\", \"orange\", \"orange\", \"orange\", \"orange\", \"orange\", \"orange\", \"orange\", \"orange\", \"orange\", \"orange\", \"orange\", \"orange\", \"orange\", \"orange\", \"orange\", \"orange\", \"orange\", \"orange\", \"orange\", \"orange\", \"orange\", \"orange\", \"red\", \"orange\", \"orange\", \"orange\", \"orange\", \"orange\", \"red\", \"orange\", \"orange\", \"orange\", \"orange\", \"orange\", \"orange\", \"orange\", \"orange\", \"orange\", \"orange\", \"orange\", \"orange\", \"orange\", \"orange\", \"orange\", \"orange\", \"red\", \"red\", \"red\", \"red\", \"red\", \"red\", \"orange\", \"red\", \"red\", \"red\", \"red\", \"red\", \"red\", \"red\", \"red\", \"red\", \"red\", \"red\", \"red\", \"orange\", \"red\", \"red\", \"red\", \"red\", \"red\", \"red\", \"orange\", \"red\", \"red\", \"red\", \"red\", \"red\", \"red\", \"red\", \"red\", \"red\", \"red\", \"red\", \"orange\", \"red\", \"red\", \"red\", \"red\", \"red\", \"red\", \"red\", \"red\", \"red\", \"red\", \"red\"]}, \"mode\": \"markers\", \"name\": \"Observaciones\", \"text\": [\"Largo: 1.40cm<br>Ancho: 0.20<br>Cluster: 0\", \"Largo: 1.40cm<br>Ancho: 0.20<br>Cluster: 0\", \"Largo: 1.30cm<br>Ancho: 0.20<br>Cluster: 0\", \"Largo: 1.50cm<br>Ancho: 0.20<br>Cluster: 0\", \"Largo: 1.40cm<br>Ancho: 0.20<br>Cluster: 0\", \"Largo: 1.70cm<br>Ancho: 0.40<br>Cluster: 0\", \"Largo: 1.40cm<br>Ancho: 0.30<br>Cluster: 0\", \"Largo: 1.50cm<br>Ancho: 0.20<br>Cluster: 0\", \"Largo: 1.40cm<br>Ancho: 0.20<br>Cluster: 0\", \"Largo: 1.50cm<br>Ancho: 0.10<br>Cluster: 0\", \"Largo: 1.50cm<br>Ancho: 0.20<br>Cluster: 0\", \"Largo: 1.60cm<br>Ancho: 0.20<br>Cluster: 0\", \"Largo: 1.40cm<br>Ancho: 0.10<br>Cluster: 0\", \"Largo: 1.10cm<br>Ancho: 0.10<br>Cluster: 0\", \"Largo: 1.20cm<br>Ancho: 0.20<br>Cluster: 0\", \"Largo: 1.50cm<br>Ancho: 0.40<br>Cluster: 0\", \"Largo: 1.30cm<br>Ancho: 0.40<br>Cluster: 0\", \"Largo: 1.40cm<br>Ancho: 0.30<br>Cluster: 0\", \"Largo: 1.70cm<br>Ancho: 0.30<br>Cluster: 0\", \"Largo: 1.50cm<br>Ancho: 0.30<br>Cluster: 0\", \"Largo: 1.70cm<br>Ancho: 0.20<br>Cluster: 0\", \"Largo: 1.50cm<br>Ancho: 0.40<br>Cluster: 0\", \"Largo: 1.00cm<br>Ancho: 0.20<br>Cluster: 0\", \"Largo: 1.70cm<br>Ancho: 0.50<br>Cluster: 0\", \"Largo: 1.90cm<br>Ancho: 0.20<br>Cluster: 0\", \"Largo: 1.60cm<br>Ancho: 0.20<br>Cluster: 0\", \"Largo: 1.60cm<br>Ancho: 0.40<br>Cluster: 0\", \"Largo: 1.50cm<br>Ancho: 0.20<br>Cluster: 0\", \"Largo: 1.40cm<br>Ancho: 0.20<br>Cluster: 0\", \"Largo: 1.60cm<br>Ancho: 0.20<br>Cluster: 0\", \"Largo: 1.60cm<br>Ancho: 0.20<br>Cluster: 0\", \"Largo: 1.50cm<br>Ancho: 0.40<br>Cluster: 0\", \"Largo: 1.50cm<br>Ancho: 0.10<br>Cluster: 0\", \"Largo: 1.40cm<br>Ancho: 0.20<br>Cluster: 0\", \"Largo: 1.50cm<br>Ancho: 0.20<br>Cluster: 0\", \"Largo: 1.20cm<br>Ancho: 0.20<br>Cluster: 0\", \"Largo: 1.30cm<br>Ancho: 0.20<br>Cluster: 0\", \"Largo: 1.40cm<br>Ancho: 0.10<br>Cluster: 0\", \"Largo: 1.30cm<br>Ancho: 0.20<br>Cluster: 0\", \"Largo: 1.50cm<br>Ancho: 0.20<br>Cluster: 0\", \"Largo: 1.30cm<br>Ancho: 0.30<br>Cluster: 0\", \"Largo: 1.30cm<br>Ancho: 0.30<br>Cluster: 0\", \"Largo: 1.30cm<br>Ancho: 0.20<br>Cluster: 0\", \"Largo: 1.60cm<br>Ancho: 0.60<br>Cluster: 0\", \"Largo: 1.90cm<br>Ancho: 0.40<br>Cluster: 0\", \"Largo: 1.40cm<br>Ancho: 0.30<br>Cluster: 0\", \"Largo: 1.60cm<br>Ancho: 0.20<br>Cluster: 0\", \"Largo: 1.40cm<br>Ancho: 0.20<br>Cluster: 0\", \"Largo: 1.50cm<br>Ancho: 0.20<br>Cluster: 0\", \"Largo: 1.40cm<br>Ancho: 0.20<br>Cluster: 0\", \"Largo: 4.70cm<br>Ancho: 1.40<br>Cluster: 2\", \"Largo: 4.50cm<br>Ancho: 1.50<br>Cluster: 2\", \"Largo: 4.90cm<br>Ancho: 1.50<br>Cluster: 2\", \"Largo: 4.00cm<br>Ancho: 1.30<br>Cluster: 2\", \"Largo: 4.60cm<br>Ancho: 1.50<br>Cluster: 2\", \"Largo: 4.50cm<br>Ancho: 1.30<br>Cluster: 2\", \"Largo: 4.70cm<br>Ancho: 1.60<br>Cluster: 2\", \"Largo: 3.30cm<br>Ancho: 1.00<br>Cluster: 2\", \"Largo: 4.60cm<br>Ancho: 1.30<br>Cluster: 2\", \"Largo: 3.90cm<br>Ancho: 1.40<br>Cluster: 2\", \"Largo: 3.50cm<br>Ancho: 1.00<br>Cluster: 2\", \"Largo: 4.20cm<br>Ancho: 1.50<br>Cluster: 2\", \"Largo: 4.00cm<br>Ancho: 1.00<br>Cluster: 2\", \"Largo: 4.70cm<br>Ancho: 1.40<br>Cluster: 2\", \"Largo: 3.60cm<br>Ancho: 1.30<br>Cluster: 2\", \"Largo: 4.40cm<br>Ancho: 1.40<br>Cluster: 2\", \"Largo: 4.50cm<br>Ancho: 1.50<br>Cluster: 2\", \"Largo: 4.10cm<br>Ancho: 1.00<br>Cluster: 2\", \"Largo: 4.50cm<br>Ancho: 1.50<br>Cluster: 2\", \"Largo: 3.90cm<br>Ancho: 1.10<br>Cluster: 2\", \"Largo: 4.80cm<br>Ancho: 1.80<br>Cluster: 2\", \"Largo: 4.00cm<br>Ancho: 1.30<br>Cluster: 2\", \"Largo: 4.90cm<br>Ancho: 1.50<br>Cluster: 2\", \"Largo: 4.70cm<br>Ancho: 1.20<br>Cluster: 2\", \"Largo: 4.30cm<br>Ancho: 1.30<br>Cluster: 2\", \"Largo: 4.40cm<br>Ancho: 1.40<br>Cluster: 2\", \"Largo: 4.80cm<br>Ancho: 1.40<br>Cluster: 2\", \"Largo: 5.00cm<br>Ancho: 1.70<br>Cluster: 1\", \"Largo: 4.50cm<br>Ancho: 1.50<br>Cluster: 2\", \"Largo: 3.50cm<br>Ancho: 1.00<br>Cluster: 2\", \"Largo: 3.80cm<br>Ancho: 1.10<br>Cluster: 2\", \"Largo: 3.70cm<br>Ancho: 1.00<br>Cluster: 2\", \"Largo: 3.90cm<br>Ancho: 1.20<br>Cluster: 2\", \"Largo: 5.10cm<br>Ancho: 1.60<br>Cluster: 1\", \"Largo: 4.50cm<br>Ancho: 1.50<br>Cluster: 2\", \"Largo: 4.50cm<br>Ancho: 1.60<br>Cluster: 2\", \"Largo: 4.70cm<br>Ancho: 1.50<br>Cluster: 2\", \"Largo: 4.40cm<br>Ancho: 1.30<br>Cluster: 2\", \"Largo: 4.10cm<br>Ancho: 1.30<br>Cluster: 2\", \"Largo: 4.00cm<br>Ancho: 1.30<br>Cluster: 2\", \"Largo: 4.40cm<br>Ancho: 1.20<br>Cluster: 2\", \"Largo: 4.60cm<br>Ancho: 1.40<br>Cluster: 2\", \"Largo: 4.00cm<br>Ancho: 1.20<br>Cluster: 2\", \"Largo: 3.30cm<br>Ancho: 1.00<br>Cluster: 2\", \"Largo: 4.20cm<br>Ancho: 1.30<br>Cluster: 2\", \"Largo: 4.20cm<br>Ancho: 1.20<br>Cluster: 2\", \"Largo: 4.20cm<br>Ancho: 1.30<br>Cluster: 2\", \"Largo: 4.30cm<br>Ancho: 1.30<br>Cluster: 2\", \"Largo: 3.00cm<br>Ancho: 1.10<br>Cluster: 2\", \"Largo: 4.10cm<br>Ancho: 1.30<br>Cluster: 2\", \"Largo: 6.00cm<br>Ancho: 2.50<br>Cluster: 1\", \"Largo: 5.10cm<br>Ancho: 1.90<br>Cluster: 1\", \"Largo: 5.90cm<br>Ancho: 2.10<br>Cluster: 1\", \"Largo: 5.60cm<br>Ancho: 1.80<br>Cluster: 1\", \"Largo: 5.80cm<br>Ancho: 2.20<br>Cluster: 1\", \"Largo: 6.60cm<br>Ancho: 2.10<br>Cluster: 1\", \"Largo: 4.50cm<br>Ancho: 1.70<br>Cluster: 2\", \"Largo: 6.30cm<br>Ancho: 1.80<br>Cluster: 1\", \"Largo: 5.80cm<br>Ancho: 1.80<br>Cluster: 1\", \"Largo: 6.10cm<br>Ancho: 2.50<br>Cluster: 1\", \"Largo: 5.10cm<br>Ancho: 2.00<br>Cluster: 1\", \"Largo: 5.30cm<br>Ancho: 1.90<br>Cluster: 1\", \"Largo: 5.50cm<br>Ancho: 2.10<br>Cluster: 1\", \"Largo: 5.00cm<br>Ancho: 2.00<br>Cluster: 1\", \"Largo: 5.10cm<br>Ancho: 2.40<br>Cluster: 1\", \"Largo: 5.30cm<br>Ancho: 2.30<br>Cluster: 1\", \"Largo: 5.50cm<br>Ancho: 1.80<br>Cluster: 1\", \"Largo: 6.70cm<br>Ancho: 2.20<br>Cluster: 1\", \"Largo: 6.90cm<br>Ancho: 2.30<br>Cluster: 1\", \"Largo: 5.00cm<br>Ancho: 1.50<br>Cluster: 2\", \"Largo: 5.70cm<br>Ancho: 2.30<br>Cluster: 1\", \"Largo: 4.90cm<br>Ancho: 2.00<br>Cluster: 1\", \"Largo: 6.70cm<br>Ancho: 2.00<br>Cluster: 1\", \"Largo: 4.90cm<br>Ancho: 1.80<br>Cluster: 1\", \"Largo: 5.70cm<br>Ancho: 2.10<br>Cluster: 1\", \"Largo: 6.00cm<br>Ancho: 1.80<br>Cluster: 1\", \"Largo: 4.80cm<br>Ancho: 1.80<br>Cluster: 2\", \"Largo: 4.90cm<br>Ancho: 1.80<br>Cluster: 1\", \"Largo: 5.60cm<br>Ancho: 2.10<br>Cluster: 1\", \"Largo: 5.80cm<br>Ancho: 1.60<br>Cluster: 1\", \"Largo: 6.10cm<br>Ancho: 1.90<br>Cluster: 1\", \"Largo: 6.40cm<br>Ancho: 2.00<br>Cluster: 1\", \"Largo: 5.60cm<br>Ancho: 2.20<br>Cluster: 1\", \"Largo: 5.10cm<br>Ancho: 1.50<br>Cluster: 1\", \"Largo: 5.60cm<br>Ancho: 1.40<br>Cluster: 1\", \"Largo: 6.10cm<br>Ancho: 2.30<br>Cluster: 1\", \"Largo: 5.60cm<br>Ancho: 2.40<br>Cluster: 1\", \"Largo: 5.50cm<br>Ancho: 1.80<br>Cluster: 1\", \"Largo: 4.80cm<br>Ancho: 1.80<br>Cluster: 2\", \"Largo: 5.40cm<br>Ancho: 2.10<br>Cluster: 1\", \"Largo: 5.60cm<br>Ancho: 2.40<br>Cluster: 1\", \"Largo: 5.10cm<br>Ancho: 2.30<br>Cluster: 1\", \"Largo: 5.10cm<br>Ancho: 1.90<br>Cluster: 1\", \"Largo: 5.90cm<br>Ancho: 2.30<br>Cluster: 1\", \"Largo: 5.70cm<br>Ancho: 2.50<br>Cluster: 1\", \"Largo: 5.20cm<br>Ancho: 2.30<br>Cluster: 1\", \"Largo: 5.00cm<br>Ancho: 1.90<br>Cluster: 1\", \"Largo: 5.20cm<br>Ancho: 2.00<br>Cluster: 1\", \"Largo: 5.40cm<br>Ancho: 2.30<br>Cluster: 1\", \"Largo: 5.10cm<br>Ancho: 1.80<br>Cluster: 1\"], \"type\": \"scatter\", \"x\": [1.4, 1.4, 1.3, 1.5, 1.4, 1.7, 1.4, 1.5, 1.4, 1.5, 1.5, 1.6, 1.4, 1.1, 1.2, 1.5, 1.3, 1.4, 1.7, 1.5, 1.7, 1.5, 1.0, 1.7, 1.9, 1.6, 1.6, 1.5, 1.4, 1.6, 1.6, 1.5, 1.5, 1.4, 1.5, 1.2, 1.3, 1.4, 1.3, 1.5, 1.3, 1.3, 1.3, 1.6, 1.9, 1.4, 1.6, 1.4, 1.5, 1.4, 4.7, 4.5, 4.9, 4.0, 4.6, 4.5, 4.7, 3.3, 4.6, 3.9, 3.5, 4.2, 4.0, 4.7, 3.6, 4.4, 4.5, 4.1, 4.5, 3.9, 4.8, 4.0, 4.9, 4.7, 4.3, 4.4, 4.8, 5.0, 4.5, 3.5, 3.8, 3.7, 3.9, 5.1, 4.5, 4.5, 4.7, 4.4, 4.1, 4.0, 4.4, 4.6, 4.0, 3.3, 4.2, 4.2, 4.2, 4.3, 3.0, 4.1, 6.0, 5.1, 5.9, 5.6, 5.8, 6.6, 4.5, 6.3, 5.8, 6.1, 5.1, 5.3, 5.5, 5.0, 5.1, 5.3, 5.5, 6.7, 6.9, 5.0, 5.7, 4.9, 6.7, 4.9, 5.7, 6.0, 4.8, 4.9, 5.6, 5.8, 6.1, 6.4, 5.6, 5.1, 5.6, 6.1, 5.6, 5.5, 4.8, 5.4, 5.6, 5.1, 5.1, 5.9, 5.7, 5.2, 5.0, 5.2, 5.4, 5.1], \"y\": [0.2, 0.2, 0.2, 0.2, 0.2, 0.4, 0.3, 0.2, 0.2, 0.1, 0.2, 0.2, 0.1, 0.1, 0.2, 0.4, 0.4, 0.3, 0.3, 0.3, 0.2, 0.4, 0.2, 0.5, 0.2, 0.2, 0.4, 0.2, 0.2, 0.2, 0.2, 0.4, 0.1, 0.2, 0.2, 0.2, 0.2, 0.1, 0.2, 0.2, 0.3, 0.3, 0.2, 0.6, 0.4, 0.3, 0.2, 0.2, 0.2, 0.2, 1.4, 1.5, 1.5, 1.3, 1.5, 1.3, 1.6, 1.0, 1.3, 1.4, 1.0, 1.5, 1.0, 1.4, 1.3, 1.4, 1.5, 1.0, 1.5, 1.1, 1.8, 1.3, 1.5, 1.2, 1.3, 1.4, 1.4, 1.7, 1.5, 1.0, 1.1, 1.0, 1.2, 1.6, 1.5, 1.6, 1.5, 1.3, 1.3, 1.3, 1.2, 1.4, 1.2, 1.0, 1.3, 1.2, 1.3, 1.3, 1.1, 1.3, 2.5, 1.9, 2.1, 1.8, 2.2, 2.1, 1.7, 1.8, 1.8, 2.5, 2.0, 1.9, 2.1, 2.0, 2.4, 2.3, 1.8, 2.2, 2.3, 1.5, 2.3, 2.0, 2.0, 1.8, 2.1, 1.8, 1.8, 1.8, 2.1, 1.6, 1.9, 2.0, 2.2, 1.5, 1.4, 2.3, 2.4, 1.8, 1.8, 2.1, 2.4, 2.3, 1.9, 2.3, 2.5, 2.3, 1.9, 2.0, 2.3, 1.8]}, {\"hoverinfo\": \"text\", \"marker\": {\"color\": [\"green\", \"red\", \"orange\"], \"line\": {\"color\": \"yellow\", \"width\": 1}, \"size\": 10, \"symbol\": 202}, \"mode\": \"markers\", \"name\": \"Centroides\", \"text\": [\"CENTROIDE<br>Largo: 1.40cm<br>Ancho: 0.20<br>Cluster: 0\", \"CENTROIDE<br>Largo: 1.40cm<br>Ancho: 0.20<br>Cluster: 0\", \"CENTROIDE<br>Largo: 1.30cm<br>Ancho: 0.20<br>Cluster: 0\", \"CENTROIDE<br>Largo: 1.50cm<br>Ancho: 0.20<br>Cluster: 0\", \"CENTROIDE<br>Largo: 1.40cm<br>Ancho: 0.20<br>Cluster: 0\", \"CENTROIDE<br>Largo: 1.70cm<br>Ancho: 0.40<br>Cluster: 0\", \"CENTROIDE<br>Largo: 1.40cm<br>Ancho: 0.30<br>Cluster: 0\", \"CENTROIDE<br>Largo: 1.50cm<br>Ancho: 0.20<br>Cluster: 0\", \"CENTROIDE<br>Largo: 1.40cm<br>Ancho: 0.20<br>Cluster: 0\", \"CENTROIDE<br>Largo: 1.50cm<br>Ancho: 0.10<br>Cluster: 0\", \"CENTROIDE<br>Largo: 1.50cm<br>Ancho: 0.20<br>Cluster: 0\", \"CENTROIDE<br>Largo: 1.60cm<br>Ancho: 0.20<br>Cluster: 0\", \"CENTROIDE<br>Largo: 1.40cm<br>Ancho: 0.10<br>Cluster: 0\", \"CENTROIDE<br>Largo: 1.10cm<br>Ancho: 0.10<br>Cluster: 0\", \"CENTROIDE<br>Largo: 1.20cm<br>Ancho: 0.20<br>Cluster: 0\", \"CENTROIDE<br>Largo: 1.50cm<br>Ancho: 0.40<br>Cluster: 0\", \"CENTROIDE<br>Largo: 1.30cm<br>Ancho: 0.40<br>Cluster: 0\", \"CENTROIDE<br>Largo: 1.40cm<br>Ancho: 0.30<br>Cluster: 0\", \"CENTROIDE<br>Largo: 1.70cm<br>Ancho: 0.30<br>Cluster: 0\", \"CENTROIDE<br>Largo: 1.50cm<br>Ancho: 0.30<br>Cluster: 0\", \"CENTROIDE<br>Largo: 1.70cm<br>Ancho: 0.20<br>Cluster: 0\", \"CENTROIDE<br>Largo: 1.50cm<br>Ancho: 0.40<br>Cluster: 0\", \"CENTROIDE<br>Largo: 1.00cm<br>Ancho: 0.20<br>Cluster: 0\", \"CENTROIDE<br>Largo: 1.70cm<br>Ancho: 0.50<br>Cluster: 0\", \"CENTROIDE<br>Largo: 1.90cm<br>Ancho: 0.20<br>Cluster: 0\", \"CENTROIDE<br>Largo: 1.60cm<br>Ancho: 0.20<br>Cluster: 0\", \"CENTROIDE<br>Largo: 1.60cm<br>Ancho: 0.40<br>Cluster: 0\", \"CENTROIDE<br>Largo: 1.50cm<br>Ancho: 0.20<br>Cluster: 0\", \"CENTROIDE<br>Largo: 1.40cm<br>Ancho: 0.20<br>Cluster: 0\", \"CENTROIDE<br>Largo: 1.60cm<br>Ancho: 0.20<br>Cluster: 0\", \"CENTROIDE<br>Largo: 1.60cm<br>Ancho: 0.20<br>Cluster: 0\", \"CENTROIDE<br>Largo: 1.50cm<br>Ancho: 0.40<br>Cluster: 0\", \"CENTROIDE<br>Largo: 1.50cm<br>Ancho: 0.10<br>Cluster: 0\", \"CENTROIDE<br>Largo: 1.40cm<br>Ancho: 0.20<br>Cluster: 0\", \"CENTROIDE<br>Largo: 1.50cm<br>Ancho: 0.20<br>Cluster: 0\", \"CENTROIDE<br>Largo: 1.20cm<br>Ancho: 0.20<br>Cluster: 0\", \"CENTROIDE<br>Largo: 1.30cm<br>Ancho: 0.20<br>Cluster: 0\", \"CENTROIDE<br>Largo: 1.40cm<br>Ancho: 0.10<br>Cluster: 0\", \"CENTROIDE<br>Largo: 1.30cm<br>Ancho: 0.20<br>Cluster: 0\", \"CENTROIDE<br>Largo: 1.50cm<br>Ancho: 0.20<br>Cluster: 0\", \"CENTROIDE<br>Largo: 1.30cm<br>Ancho: 0.30<br>Cluster: 0\", \"CENTROIDE<br>Largo: 1.30cm<br>Ancho: 0.30<br>Cluster: 0\", \"CENTROIDE<br>Largo: 1.30cm<br>Ancho: 0.20<br>Cluster: 0\", \"CENTROIDE<br>Largo: 1.60cm<br>Ancho: 0.60<br>Cluster: 0\", \"CENTROIDE<br>Largo: 1.90cm<br>Ancho: 0.40<br>Cluster: 0\", \"CENTROIDE<br>Largo: 1.40cm<br>Ancho: 0.30<br>Cluster: 0\", \"CENTROIDE<br>Largo: 1.60cm<br>Ancho: 0.20<br>Cluster: 0\", \"CENTROIDE<br>Largo: 1.40cm<br>Ancho: 0.20<br>Cluster: 0\", \"CENTROIDE<br>Largo: 1.50cm<br>Ancho: 0.20<br>Cluster: 0\", \"CENTROIDE<br>Largo: 1.40cm<br>Ancho: 0.20<br>Cluster: 0\", \"CENTROIDE<br>Largo: 4.70cm<br>Ancho: 1.40<br>Cluster: 2\", \"CENTROIDE<br>Largo: 4.50cm<br>Ancho: 1.50<br>Cluster: 2\", \"CENTROIDE<br>Largo: 4.90cm<br>Ancho: 1.50<br>Cluster: 2\", \"CENTROIDE<br>Largo: 4.00cm<br>Ancho: 1.30<br>Cluster: 2\", \"CENTROIDE<br>Largo: 4.60cm<br>Ancho: 1.50<br>Cluster: 2\", \"CENTROIDE<br>Largo: 4.50cm<br>Ancho: 1.30<br>Cluster: 2\", \"CENTROIDE<br>Largo: 4.70cm<br>Ancho: 1.60<br>Cluster: 2\", \"CENTROIDE<br>Largo: 3.30cm<br>Ancho: 1.00<br>Cluster: 2\", \"CENTROIDE<br>Largo: 4.60cm<br>Ancho: 1.30<br>Cluster: 2\", \"CENTROIDE<br>Largo: 3.90cm<br>Ancho: 1.40<br>Cluster: 2\", \"CENTROIDE<br>Largo: 3.50cm<br>Ancho: 1.00<br>Cluster: 2\", \"CENTROIDE<br>Largo: 4.20cm<br>Ancho: 1.50<br>Cluster: 2\", \"CENTROIDE<br>Largo: 4.00cm<br>Ancho: 1.00<br>Cluster: 2\", \"CENTROIDE<br>Largo: 4.70cm<br>Ancho: 1.40<br>Cluster: 2\", \"CENTROIDE<br>Largo: 3.60cm<br>Ancho: 1.30<br>Cluster: 2\", \"CENTROIDE<br>Largo: 4.40cm<br>Ancho: 1.40<br>Cluster: 2\", \"CENTROIDE<br>Largo: 4.50cm<br>Ancho: 1.50<br>Cluster: 2\", \"CENTROIDE<br>Largo: 4.10cm<br>Ancho: 1.00<br>Cluster: 2\", \"CENTROIDE<br>Largo: 4.50cm<br>Ancho: 1.50<br>Cluster: 2\", \"CENTROIDE<br>Largo: 3.90cm<br>Ancho: 1.10<br>Cluster: 2\", \"CENTROIDE<br>Largo: 4.80cm<br>Ancho: 1.80<br>Cluster: 2\", \"CENTROIDE<br>Largo: 4.00cm<br>Ancho: 1.30<br>Cluster: 2\", \"CENTROIDE<br>Largo: 4.90cm<br>Ancho: 1.50<br>Cluster: 2\", \"CENTROIDE<br>Largo: 4.70cm<br>Ancho: 1.20<br>Cluster: 2\", \"CENTROIDE<br>Largo: 4.30cm<br>Ancho: 1.30<br>Cluster: 2\", \"CENTROIDE<br>Largo: 4.40cm<br>Ancho: 1.40<br>Cluster: 2\", \"CENTROIDE<br>Largo: 4.80cm<br>Ancho: 1.40<br>Cluster: 2\", \"CENTROIDE<br>Largo: 5.00cm<br>Ancho: 1.70<br>Cluster: 1\", \"CENTROIDE<br>Largo: 4.50cm<br>Ancho: 1.50<br>Cluster: 2\", \"CENTROIDE<br>Largo: 3.50cm<br>Ancho: 1.00<br>Cluster: 2\", \"CENTROIDE<br>Largo: 3.80cm<br>Ancho: 1.10<br>Cluster: 2\", \"CENTROIDE<br>Largo: 3.70cm<br>Ancho: 1.00<br>Cluster: 2\", \"CENTROIDE<br>Largo: 3.90cm<br>Ancho: 1.20<br>Cluster: 2\", \"CENTROIDE<br>Largo: 5.10cm<br>Ancho: 1.60<br>Cluster: 1\", \"CENTROIDE<br>Largo: 4.50cm<br>Ancho: 1.50<br>Cluster: 2\", \"CENTROIDE<br>Largo: 4.50cm<br>Ancho: 1.60<br>Cluster: 2\", \"CENTROIDE<br>Largo: 4.70cm<br>Ancho: 1.50<br>Cluster: 2\", \"CENTROIDE<br>Largo: 4.40cm<br>Ancho: 1.30<br>Cluster: 2\", \"CENTROIDE<br>Largo: 4.10cm<br>Ancho: 1.30<br>Cluster: 2\", \"CENTROIDE<br>Largo: 4.00cm<br>Ancho: 1.30<br>Cluster: 2\", \"CENTROIDE<br>Largo: 4.40cm<br>Ancho: 1.20<br>Cluster: 2\", \"CENTROIDE<br>Largo: 4.60cm<br>Ancho: 1.40<br>Cluster: 2\", \"CENTROIDE<br>Largo: 4.00cm<br>Ancho: 1.20<br>Cluster: 2\", \"CENTROIDE<br>Largo: 3.30cm<br>Ancho: 1.00<br>Cluster: 2\", \"CENTROIDE<br>Largo: 4.20cm<br>Ancho: 1.30<br>Cluster: 2\", \"CENTROIDE<br>Largo: 4.20cm<br>Ancho: 1.20<br>Cluster: 2\", \"CENTROIDE<br>Largo: 4.20cm<br>Ancho: 1.30<br>Cluster: 2\", \"CENTROIDE<br>Largo: 4.30cm<br>Ancho: 1.30<br>Cluster: 2\", \"CENTROIDE<br>Largo: 3.00cm<br>Ancho: 1.10<br>Cluster: 2\", \"CENTROIDE<br>Largo: 4.10cm<br>Ancho: 1.30<br>Cluster: 2\", \"CENTROIDE<br>Largo: 6.00cm<br>Ancho: 2.50<br>Cluster: 1\", \"CENTROIDE<br>Largo: 5.10cm<br>Ancho: 1.90<br>Cluster: 1\", \"CENTROIDE<br>Largo: 5.90cm<br>Ancho: 2.10<br>Cluster: 1\", \"CENTROIDE<br>Largo: 5.60cm<br>Ancho: 1.80<br>Cluster: 1\", \"CENTROIDE<br>Largo: 5.80cm<br>Ancho: 2.20<br>Cluster: 1\", \"CENTROIDE<br>Largo: 6.60cm<br>Ancho: 2.10<br>Cluster: 1\", \"CENTROIDE<br>Largo: 4.50cm<br>Ancho: 1.70<br>Cluster: 2\", \"CENTROIDE<br>Largo: 6.30cm<br>Ancho: 1.80<br>Cluster: 1\", \"CENTROIDE<br>Largo: 5.80cm<br>Ancho: 1.80<br>Cluster: 1\", \"CENTROIDE<br>Largo: 6.10cm<br>Ancho: 2.50<br>Cluster: 1\", \"CENTROIDE<br>Largo: 5.10cm<br>Ancho: 2.00<br>Cluster: 1\", \"CENTROIDE<br>Largo: 5.30cm<br>Ancho: 1.90<br>Cluster: 1\", \"CENTROIDE<br>Largo: 5.50cm<br>Ancho: 2.10<br>Cluster: 1\", \"CENTROIDE<br>Largo: 5.00cm<br>Ancho: 2.00<br>Cluster: 1\", \"CENTROIDE<br>Largo: 5.10cm<br>Ancho: 2.40<br>Cluster: 1\", \"CENTROIDE<br>Largo: 5.30cm<br>Ancho: 2.30<br>Cluster: 1\", \"CENTROIDE<br>Largo: 5.50cm<br>Ancho: 1.80<br>Cluster: 1\", \"CENTROIDE<br>Largo: 6.70cm<br>Ancho: 2.20<br>Cluster: 1\", \"CENTROIDE<br>Largo: 6.90cm<br>Ancho: 2.30<br>Cluster: 1\", \"CENTROIDE<br>Largo: 5.00cm<br>Ancho: 1.50<br>Cluster: 2\", \"CENTROIDE<br>Largo: 5.70cm<br>Ancho: 2.30<br>Cluster: 1\", \"CENTROIDE<br>Largo: 4.90cm<br>Ancho: 2.00<br>Cluster: 1\", \"CENTROIDE<br>Largo: 6.70cm<br>Ancho: 2.00<br>Cluster: 1\", \"CENTROIDE<br>Largo: 4.90cm<br>Ancho: 1.80<br>Cluster: 1\", \"CENTROIDE<br>Largo: 5.70cm<br>Ancho: 2.10<br>Cluster: 1\", \"CENTROIDE<br>Largo: 6.00cm<br>Ancho: 1.80<br>Cluster: 1\", \"CENTROIDE<br>Largo: 4.80cm<br>Ancho: 1.80<br>Cluster: 2\", \"CENTROIDE<br>Largo: 4.90cm<br>Ancho: 1.80<br>Cluster: 1\", \"CENTROIDE<br>Largo: 5.60cm<br>Ancho: 2.10<br>Cluster: 1\", \"CENTROIDE<br>Largo: 5.80cm<br>Ancho: 1.60<br>Cluster: 1\", \"CENTROIDE<br>Largo: 6.10cm<br>Ancho: 1.90<br>Cluster: 1\", \"CENTROIDE<br>Largo: 6.40cm<br>Ancho: 2.00<br>Cluster: 1\", \"CENTROIDE<br>Largo: 5.60cm<br>Ancho: 2.20<br>Cluster: 1\", \"CENTROIDE<br>Largo: 5.10cm<br>Ancho: 1.50<br>Cluster: 1\", \"CENTROIDE<br>Largo: 5.60cm<br>Ancho: 1.40<br>Cluster: 1\", \"CENTROIDE<br>Largo: 6.10cm<br>Ancho: 2.30<br>Cluster: 1\", \"CENTROIDE<br>Largo: 5.60cm<br>Ancho: 2.40<br>Cluster: 1\", \"CENTROIDE<br>Largo: 5.50cm<br>Ancho: 1.80<br>Cluster: 1\", \"CENTROIDE<br>Largo: 4.80cm<br>Ancho: 1.80<br>Cluster: 2\", \"CENTROIDE<br>Largo: 5.40cm<br>Ancho: 2.10<br>Cluster: 1\", \"CENTROIDE<br>Largo: 5.60cm<br>Ancho: 2.40<br>Cluster: 1\", \"CENTROIDE<br>Largo: 5.10cm<br>Ancho: 2.30<br>Cluster: 1\", \"CENTROIDE<br>Largo: 5.10cm<br>Ancho: 1.90<br>Cluster: 1\", \"CENTROIDE<br>Largo: 5.90cm<br>Ancho: 2.30<br>Cluster: 1\", \"CENTROIDE<br>Largo: 5.70cm<br>Ancho: 2.50<br>Cluster: 1\", \"CENTROIDE<br>Largo: 5.20cm<br>Ancho: 2.30<br>Cluster: 1\", \"CENTROIDE<br>Largo: 5.00cm<br>Ancho: 1.90<br>Cluster: 1\", \"CENTROIDE<br>Largo: 5.20cm<br>Ancho: 2.00<br>Cluster: 1\", \"CENTROIDE<br>Largo: 5.40cm<br>Ancho: 2.30<br>Cluster: 1\", \"CENTROIDE<br>Largo: 5.10cm<br>Ancho: 1.80<br>Cluster: 1\"], \"type\": \"scatter\", \"x\": [1.4620000000000002, 5.595833333333333, 4.269230769230769], \"y\": [0.24600000000000055, 2.0375, 1.3423076923076924]}],\n",
       "                        {\"template\": {\"data\": {\"bar\": [{\"error_x\": {\"color\": \"#2a3f5f\"}, \"error_y\": {\"color\": \"#2a3f5f\"}, \"marker\": {\"line\": {\"color\": \"#E5ECF6\", \"width\": 0.5}}, \"type\": \"bar\"}], \"barpolar\": [{\"marker\": {\"line\": {\"color\": \"#E5ECF6\", \"width\": 0.5}}, \"type\": \"barpolar\"}], \"carpet\": [{\"aaxis\": {\"endlinecolor\": \"#2a3f5f\", \"gridcolor\": \"white\", \"linecolor\": \"white\", \"minorgridcolor\": \"white\", \"startlinecolor\": \"#2a3f5f\"}, \"baxis\": {\"endlinecolor\": \"#2a3f5f\", \"gridcolor\": \"white\", \"linecolor\": \"white\", \"minorgridcolor\": \"white\", \"startlinecolor\": \"#2a3f5f\"}, \"type\": \"carpet\"}], \"choropleth\": [{\"colorbar\": {\"outlinewidth\": 0, \"ticks\": \"\"}, \"type\": \"choropleth\"}], \"contour\": [{\"colorbar\": {\"outlinewidth\": 0, \"ticks\": \"\"}, \"colorscale\": [[0.0, \"#0d0887\"], [0.1111111111111111, \"#46039f\"], [0.2222222222222222, \"#7201a8\"], [0.3333333333333333, \"#9c179e\"], [0.4444444444444444, \"#bd3786\"], [0.5555555555555556, \"#d8576b\"], [0.6666666666666666, \"#ed7953\"], [0.7777777777777778, \"#fb9f3a\"], [0.8888888888888888, \"#fdca26\"], [1.0, \"#f0f921\"]], \"type\": \"contour\"}], \"contourcarpet\": [{\"colorbar\": {\"outlinewidth\": 0, \"ticks\": \"\"}, \"type\": \"contourcarpet\"}], \"heatmap\": [{\"colorbar\": {\"outlinewidth\": 0, \"ticks\": \"\"}, \"colorscale\": [[0.0, \"#0d0887\"], [0.1111111111111111, \"#46039f\"], [0.2222222222222222, \"#7201a8\"], [0.3333333333333333, \"#9c179e\"], [0.4444444444444444, \"#bd3786\"], [0.5555555555555556, \"#d8576b\"], [0.6666666666666666, \"#ed7953\"], [0.7777777777777778, \"#fb9f3a\"], [0.8888888888888888, \"#fdca26\"], [1.0, \"#f0f921\"]], \"type\": \"heatmap\"}], \"heatmapgl\": [{\"colorbar\": {\"outlinewidth\": 0, \"ticks\": \"\"}, \"colorscale\": [[0.0, \"#0d0887\"], [0.1111111111111111, \"#46039f\"], [0.2222222222222222, \"#7201a8\"], [0.3333333333333333, \"#9c179e\"], [0.4444444444444444, \"#bd3786\"], [0.5555555555555556, \"#d8576b\"], [0.6666666666666666, \"#ed7953\"], [0.7777777777777778, \"#fb9f3a\"], [0.8888888888888888, \"#fdca26\"], [1.0, \"#f0f921\"]], \"type\": \"heatmapgl\"}], \"histogram\": [{\"marker\": {\"colorbar\": {\"outlinewidth\": 0, \"ticks\": \"\"}}, \"type\": \"histogram\"}], \"histogram2d\": [{\"colorbar\": {\"outlinewidth\": 0, \"ticks\": \"\"}, \"colorscale\": [[0.0, \"#0d0887\"], [0.1111111111111111, \"#46039f\"], [0.2222222222222222, \"#7201a8\"], [0.3333333333333333, \"#9c179e\"], [0.4444444444444444, \"#bd3786\"], [0.5555555555555556, \"#d8576b\"], [0.6666666666666666, \"#ed7953\"], [0.7777777777777778, \"#fb9f3a\"], [0.8888888888888888, \"#fdca26\"], [1.0, \"#f0f921\"]], \"type\": \"histogram2d\"}], \"histogram2dcontour\": [{\"colorbar\": {\"outlinewidth\": 0, \"ticks\": \"\"}, \"colorscale\": [[0.0, \"#0d0887\"], [0.1111111111111111, \"#46039f\"], [0.2222222222222222, \"#7201a8\"], [0.3333333333333333, \"#9c179e\"], [0.4444444444444444, \"#bd3786\"], [0.5555555555555556, \"#d8576b\"], [0.6666666666666666, \"#ed7953\"], [0.7777777777777778, \"#fb9f3a\"], [0.8888888888888888, \"#fdca26\"], [1.0, \"#f0f921\"]], \"type\": \"histogram2dcontour\"}], \"mesh3d\": [{\"colorbar\": {\"outlinewidth\": 0, \"ticks\": \"\"}, \"type\": \"mesh3d\"}], \"parcoords\": [{\"line\": {\"colorbar\": {\"outlinewidth\": 0, \"ticks\": \"\"}}, \"type\": \"parcoords\"}], \"pie\": [{\"automargin\": true, \"type\": \"pie\"}], \"scatter\": [{\"marker\": {\"colorbar\": {\"outlinewidth\": 0, \"ticks\": \"\"}}, \"type\": \"scatter\"}], \"scatter3d\": [{\"line\": {\"colorbar\": {\"outlinewidth\": 0, \"ticks\": \"\"}}, \"marker\": {\"colorbar\": {\"outlinewidth\": 0, \"ticks\": \"\"}}, \"type\": \"scatter3d\"}], \"scattercarpet\": [{\"marker\": {\"colorbar\": {\"outlinewidth\": 0, \"ticks\": \"\"}}, \"type\": \"scattercarpet\"}], \"scattergeo\": [{\"marker\": {\"colorbar\": {\"outlinewidth\": 0, \"ticks\": \"\"}}, \"type\": \"scattergeo\"}], \"scattergl\": [{\"marker\": {\"colorbar\": {\"outlinewidth\": 0, \"ticks\": \"\"}}, \"type\": \"scattergl\"}], \"scattermapbox\": [{\"marker\": {\"colorbar\": {\"outlinewidth\": 0, \"ticks\": \"\"}}, \"type\": \"scattermapbox\"}], \"scatterpolar\": [{\"marker\": {\"colorbar\": {\"outlinewidth\": 0, \"ticks\": \"\"}}, \"type\": \"scatterpolar\"}], \"scatterpolargl\": [{\"marker\": {\"colorbar\": {\"outlinewidth\": 0, \"ticks\": \"\"}}, \"type\": \"scatterpolargl\"}], \"scatterternary\": [{\"marker\": {\"colorbar\": {\"outlinewidth\": 0, \"ticks\": \"\"}}, \"type\": \"scatterternary\"}], \"surface\": [{\"colorbar\": {\"outlinewidth\": 0, \"ticks\": \"\"}, \"colorscale\": [[0.0, \"#0d0887\"], [0.1111111111111111, \"#46039f\"], [0.2222222222222222, \"#7201a8\"], [0.3333333333333333, \"#9c179e\"], [0.4444444444444444, \"#bd3786\"], [0.5555555555555556, \"#d8576b\"], [0.6666666666666666, \"#ed7953\"], [0.7777777777777778, \"#fb9f3a\"], [0.8888888888888888, \"#fdca26\"], [1.0, \"#f0f921\"]], \"type\": \"surface\"}], \"table\": [{\"cells\": {\"fill\": {\"color\": \"#EBF0F8\"}, \"line\": {\"color\": \"white\"}}, \"header\": {\"fill\": {\"color\": \"#C8D4E3\"}, \"line\": {\"color\": \"white\"}}, \"type\": \"table\"}]}, \"layout\": {\"annotationdefaults\": {\"arrowcolor\": \"#2a3f5f\", \"arrowhead\": 0, \"arrowwidth\": 1}, \"coloraxis\": {\"colorbar\": {\"outlinewidth\": 0, \"ticks\": \"\"}}, \"colorscale\": {\"diverging\": [[0, \"#8e0152\"], [0.1, \"#c51b7d\"], [0.2, \"#de77ae\"], [0.3, \"#f1b6da\"], [0.4, \"#fde0ef\"], [0.5, \"#f7f7f7\"], [0.6, \"#e6f5d0\"], [0.7, \"#b8e186\"], [0.8, \"#7fbc41\"], [0.9, \"#4d9221\"], [1, \"#276419\"]], \"sequential\": [[0.0, \"#0d0887\"], [0.1111111111111111, \"#46039f\"], [0.2222222222222222, \"#7201a8\"], [0.3333333333333333, \"#9c179e\"], [0.4444444444444444, \"#bd3786\"], [0.5555555555555556, \"#d8576b\"], [0.6666666666666666, \"#ed7953\"], [0.7777777777777778, \"#fb9f3a\"], [0.8888888888888888, \"#fdca26\"], [1.0, \"#f0f921\"]], \"sequentialminus\": [[0.0, \"#0d0887\"], [0.1111111111111111, \"#46039f\"], [0.2222222222222222, \"#7201a8\"], [0.3333333333333333, \"#9c179e\"], [0.4444444444444444, \"#bd3786\"], [0.5555555555555556, \"#d8576b\"], [0.6666666666666666, \"#ed7953\"], [0.7777777777777778, \"#fb9f3a\"], [0.8888888888888888, \"#fdca26\"], [1.0, \"#f0f921\"]]}, \"colorway\": [\"#636efa\", \"#EF553B\", \"#00cc96\", \"#ab63fa\", \"#FFA15A\", \"#19d3f3\", \"#FF6692\", \"#B6E880\", \"#FF97FF\", \"#FECB52\"], \"font\": {\"color\": \"#2a3f5f\"}, \"geo\": {\"bgcolor\": \"white\", \"lakecolor\": \"white\", \"landcolor\": \"#E5ECF6\", \"showlakes\": true, \"showland\": true, \"subunitcolor\": \"white\"}, \"hoverlabel\": {\"align\": \"left\"}, \"hovermode\": \"closest\", \"mapbox\": {\"style\": \"light\"}, \"paper_bgcolor\": \"white\", \"plot_bgcolor\": \"#E5ECF6\", \"polar\": {\"angularaxis\": {\"gridcolor\": \"white\", \"linecolor\": \"white\", \"ticks\": \"\"}, \"bgcolor\": \"#E5ECF6\", \"radialaxis\": {\"gridcolor\": \"white\", \"linecolor\": \"white\", \"ticks\": \"\"}}, \"scene\": {\"xaxis\": {\"backgroundcolor\": \"#E5ECF6\", \"gridcolor\": \"white\", \"gridwidth\": 2, \"linecolor\": \"white\", \"showbackground\": true, \"ticks\": \"\", \"zerolinecolor\": \"white\"}, \"yaxis\": {\"backgroundcolor\": \"#E5ECF6\", \"gridcolor\": \"white\", \"gridwidth\": 2, \"linecolor\": \"white\", \"showbackground\": true, \"ticks\": \"\", \"zerolinecolor\": \"white\"}, \"zaxis\": {\"backgroundcolor\": \"#E5ECF6\", \"gridcolor\": \"white\", \"gridwidth\": 2, \"linecolor\": \"white\", \"showbackground\": true, \"ticks\": \"\", \"zerolinecolor\": \"white\"}}, \"shapedefaults\": {\"line\": {\"color\": \"#2a3f5f\"}}, \"ternary\": {\"aaxis\": {\"gridcolor\": \"white\", \"linecolor\": \"white\", \"ticks\": \"\"}, \"baxis\": {\"gridcolor\": \"white\", \"linecolor\": \"white\", \"ticks\": \"\"}, \"bgcolor\": \"#E5ECF6\", \"caxis\": {\"gridcolor\": \"white\", \"linecolor\": \"white\", \"ticks\": \"\"}}, \"title\": {\"x\": 0.05}, \"xaxis\": {\"automargin\": true, \"gridcolor\": \"white\", \"linecolor\": \"white\", \"ticks\": \"\", \"title\": {\"standoff\": 15}, \"zerolinecolor\": \"white\", \"zerolinewidth\": 2}, \"yaxis\": {\"automargin\": true, \"gridcolor\": \"white\", \"linecolor\": \"white\", \"ticks\": \"\", \"title\": {\"standoff\": 15}, \"zerolinecolor\": \"white\", \"zerolinewidth\": 2}}}, \"title\": {\"text\": \"Iris Clustering\"}, \"xaxis\": {\"title\": {\"text\": \"Largo del P\\u00e9talo\"}}, \"yaxis\": {\"title\": {\"text\": \"Ancho del P\\u00e9talo\"}}},\n",
       "                        {\"responsive\": true}\n",
       "                    ).then(function(){\n",
       "                            \n",
       "var gd = document.getElementById('d7b13f5c-bf27-4818-bf1f-8bc1408e8b63');\n",
       "var x = new MutationObserver(function (mutations, observer) {{\n",
       "        var display = window.getComputedStyle(gd).display;\n",
       "        if (!display || display === 'none') {{\n",
       "            console.log([gd, 'removed!']);\n",
       "            Plotly.purge(gd);\n",
       "            observer.disconnect();\n",
       "        }}\n",
       "}});\n",
       "\n",
       "// Listen for the removal of the full notebook cells\n",
       "var notebookContainer = gd.closest('#notebook-container');\n",
       "if (notebookContainer) {{\n",
       "    x.observe(notebookContainer, {childList: true});\n",
       "}}\n",
       "\n",
       "// Listen for the clearing of the current output cell\n",
       "var outputEl = gd.closest('.output');\n",
       "if (outputEl) {{\n",
       "    x.observe(outputEl, {childList: true});\n",
       "}}\n",
       "\n",
       "                        })\n",
       "                };\n",
       "                });\n",
       "            </script>\n",
       "        </div>"
      ]
     },
     "metadata": {},
     "output_type": "display_data"
    }
   ],
   "source": [
    "plot()"
   ]
  },
  {
   "cell_type": "code",
   "execution_count": 12,
   "metadata": {
    "slideshow": {
     "slide_type": "fragment"
    }
   },
   "outputs": [
    {
     "data": {
      "text/plain": [
       "array(['setosa', 'setosa', 'setosa', 'setosa', 'setosa', 'setosa',\n",
       "       'setosa', 'setosa', 'setosa', 'setosa'], dtype=object)"
      ]
     },
     "execution_count": 12,
     "metadata": {},
     "output_type": "execute_result"
    }
   ],
   "source": [
    "# ¿Lo hizo bien?\n",
    "sns.load_dataset(\"iris\").species.values[:10]"
   ]
  },
  {
   "cell_type": "code",
   "execution_count": 13,
   "metadata": {
    "slideshow": {
     "slide_type": "fragment"
    }
   },
   "outputs": [
    {
     "data": {
      "text/plain": [
       "array([0], dtype=int32)"
      ]
     },
     "execution_count": 13,
     "metadata": {},
     "output_type": "execute_result"
    }
   ],
   "source": [
    "model.predict([[1,0.5]])"
   ]
  },
  {
   "cell_type": "markdown",
   "metadata": {
    "slideshow": {
     "slide_type": "slide"
    }
   },
   "source": [
    "# 📞 Llamada a la realidad\n",
    "\n",
    "<br>\n",
    "\n",
    "<center><img src='img/iris2.png' style='height:300px'></center>\n",
    "\n",
    "• Dominio del tema es importante\n",
    "\n",
    "• Escoger, limpiar, transformar y crear nuevas variables dependientes\n",
    "\n",
    "• No se puede visualizar en muchas dimensiones     \n",
    "\n",
    "• En un contexto de negocios, quizás es mejor usar `sklearn_extra.cluster.KMedoids`\n",
    "\n",
    "<b>Atención</b>: Si las variables son discretas, toca cambiar la métrica (función distancia)"
   ]
  },
  {
   "cell_type": "markdown",
   "metadata": {
    "slideshow": {
     "slide_type": "slide"
    }
   },
   "source": [
    "# 🙁 ¿Qué puede salir mal?\n",
    "Desventajas de K-means\n",
    "\n",
    "<br>\n",
    "\n",
    "• Se tiene que escoger K con antelación (más de eso adelante)\n",
    "\n",
    "• Es intensivo computacionalmente\n",
    "\n",
    "• Cada observación pertenece a un sólo cúmulo \n",
    "\n",
    "• Sensible a las observaciones atípicas \n",
    "\n",
    "• No puede modelar relaciones complejas"
   ]
  },
  {
   "cell_type": "markdown",
   "metadata": {
    "slideshow": {
     "slide_type": "slide"
    }
   },
   "source": [
    "# 🙁 ¿Qué puede salir mal?\n",
    "Cuando NO usar K-means\n",
    "\n",
    "<br>\n",
    "\n",
    "<center><img src='https://cdn.analyticsvidhya.com/wp-content/uploads/2019/08/Screenshot-from-2019-08-09-13-15-26.png'></center>"
   ]
  },
  {
   "cell_type": "markdown",
   "metadata": {
    "slideshow": {
     "slide_type": "slide"
    }
   },
   "source": [
    "# 🙁 ¿Qué puede salir mal?\n",
    "Cuando NO usar K-means\n",
    "\n",
    "<br>\n",
    "\n",
    "<center><img src='img/ej1.png' style='height:500px'></center>"
   ]
  },
  {
   "cell_type": "markdown",
   "metadata": {
    "slideshow": {
     "slide_type": "slide"
    }
   },
   "source": [
    "# 🙁 ¿Qué puede salir mal?\n",
    "Cuando NO usar K-means\n",
    "\n",
    "<br>\n",
    "\n",
    "<center><img src='https://cdn.analyticsvidhya.com/wp-content/uploads/2019/08/Screenshot-from-2019-08-09-13-19-05.png'></center>"
   ]
  },
  {
   "cell_type": "markdown",
   "metadata": {
    "slideshow": {
     "slide_type": "slide"
    }
   },
   "source": [
    "# ¿Cómo escoger K?\n",
    "\n",
    "\n",
    "#### Es importante escoger un buen número para K\n",
    "\n",
    "<br>\n",
    "<center><img src='img/pickk1.png' style='height:600px'></center>"
   ]
  },
  {
   "cell_type": "markdown",
   "metadata": {
    "slideshow": {
     "slide_type": "slide"
    }
   },
   "source": [
    "# ¿Cómo escoger K?\n",
    "\n",
    "\n",
    "#### ¿Cuántos cúmulos hay aquí?\n",
    "\n",
    "<br>\n",
    "<center><img src='https://cdn.analyticsvidhya.com/wp-content/uploads/2019/08/Screenshot-from-2019-08-09-15-51-38.png'></center>"
   ]
  },
  {
   "cell_type": "markdown",
   "metadata": {
    "slideshow": {
     "slide_type": "slide"
    }
   },
   "source": [
    "# ¿Cómo escoger K?\n",
    "\n",
    "\n",
    "#### ¿Cuántos cúmulos hay aquí? \n",
    "\n",
    "#### ¿Dos?\n",
    "\n",
    "<br>\n",
    "<center><img src='https://cdn.analyticsvidhya.com/wp-content/uploads/2019/08/Screenshot-from-2019-08-09-15-53-27.png'></center>"
   ]
  },
  {
   "cell_type": "markdown",
   "metadata": {
    "slideshow": {
     "slide_type": "slide"
    }
   },
   "source": [
    "# ¿Cómo escoger K?\n",
    "\n",
    "\n",
    "#### ¿Cuántos cúmulos hay aquí? \n",
    "\n",
    "#### ¿Ocho?\n",
    "\n",
    "<br>\n",
    "<center><img src='https://cdn.analyticsvidhya.com/wp-content/uploads/2019/08/Screenshot-from-2019-08-09-15-54-58.png'></center>"
   ]
  },
  {
   "cell_type": "markdown",
   "metadata": {
    "slideshow": {
     "slide_type": "slide"
    }
   },
   "source": [
    "### 👮‍♀️ Punto de control\n",
    "<br>\n",
    "\n",
    "• ¿Cuál es valor mínimo posible para K?\n",
    "\n",
    "• ¿Cuál es valor máximo para K?\n",
    "\n",
    "• ¿Cómo escoger el número óptimo para K?"
   ]
  },
  {
   "cell_type": "markdown",
   "metadata": {
    "slideshow": {
     "slide_type": "slide"
    }
   },
   "source": [
    "# ¿Cómo escoger K?\n",
    "\n",
    "\n",
    "#### Método #1: El método del codo"
   ]
  },
  {
   "cell_type": "code",
   "execution_count": 14,
   "metadata": {
    "slideshow": {
     "slide_type": "fragment"
    }
   },
   "outputs": [
    {
     "data": {
      "text/plain": [
       "31.371358974358973"
      ]
     },
     "execution_count": 14,
     "metadata": {},
     "output_type": "execute_result"
    }
   ],
   "source": [
    "# Inercia: Suma de la distancia de las observaciones a su centroide más cercano\n",
    "model.inertia_"
   ]
  },
  {
   "cell_type": "code",
   "execution_count": 15,
   "metadata": {
    "slideshow": {
     "slide_type": "fragment"
    }
   },
   "outputs": [],
   "source": [
    "inercias = {}\n",
    "\n",
    "for k in range(1, 10):\n",
    "    kmeans = KMeans(n_clusters=k).fit(iris[['petal_length', 'petal_width']])\n",
    "    inercias[k] = kmeans.inertia_ "
   ]
  },
  {
   "cell_type": "code",
   "execution_count": 16,
   "metadata": {
    "slideshow": {
     "slide_type": "fragment"
    }
   },
   "outputs": [
    {
     "data": {
      "image/png": "[encoded data removed]",
      "text/plain": [
       "<Figure size 432x288 with 1 Axes>"
      ]
     },
     "metadata": {
      "needs_background": "light"
     },
     "output_type": "display_data"
    }
   ],
   "source": [
    "plt.plot(list(inercias.keys()), list(inercias.values()))\n",
    "plt.xlabel(\"Número de cúmulos\"); plt.ylabel(\"Inercia\"); plt.title('Iris');"
   ]
  },
  {
   "cell_type": "markdown",
   "metadata": {
    "slideshow": {
     "slide_type": "slide"
    }
   },
   "source": [
    "# Recapitulando\n",
    "\n",
    "<br>\n",
    "\n",
    "<img src='https://bgstieber.github.io/post/an-introduction-to-the-kmeans-algorithm/post_images/kmeans.gif' style='height:550px; float: left; margin: 0px 15px 15px 0px'>\n",
    "\n",
    "<br>\n",
    "\n",
    "• Los modelos de agrupación son técnicas no supervisadas de Machine Learning que buscan extraer la estructura de los datos al juntar las observaciones similares.\n",
    "\n",
    "• K-means es el modelo de agrupación más usado\n",
    "\n",
    "• El algoritmo es iterativo y reasigna los centroides hasta cuando ya no haya cambio en los grupos\n",
    "\n",
    "• Como todo modelo, es importante hacer una buena selección de variables dependientes y usar conocimento del tema para evaluar e interpretar el modelo.\n",
    "\n",
    "• Hay que considerar las limitaciones del modelo a la hora de escoger trabajar o no con él."
   ]
  },
  {
   "cell_type": "markdown",
   "metadata": {
    "slideshow": {
     "slide_type": "slide"
    }
   },
   "source": [
    "# 🤔 En la próxima clase...\n",
    "\n",
    "Más algoritmos de agrupación\n",
    "\n",
    "<center><img src='https://scikit-learn.org/stable/_images/sphx_glr_plot_cluster_comparison_0011.png' style='height:630px'></center>\n",
    "\n",
    "\n",
    "    \n",
    "Lectura adicional: [Documentación](https://scikit-learn.org/stable/modules/clustering.html)\n",
    "\n"
   ]
  },
  {
   "cell_type": "markdown",
   "metadata": {
    "slideshow": {
     "slide_type": "slide"
    }
   },
   "source": [
    "# 🤓 Laboratorio"
   ]
  },
  {
   "cell_type": "markdown",
   "metadata": {
    "slideshow": {
     "slide_type": "fragment"
    }
   },
   "source": [
    "• Datos más complejos\n",
    "\n",
    "• Método de la silueta\n",
    "\n",
    "• Portafolio"
   ]
  }
 ],
 "metadata": {
  "celltoolbar": "Slideshow",
  "kernelspec": {
   "display_name": "Python 3",
   "language": "python",
   "name": "python3"
  },
  "language_info": {
   "codemirror_mode": {
    "name": "ipython",
    "version": 3
   },
   "file_extension": ".py",
   "mimetype": "text/x-python",
   "name": "python",
   "nbconvert_exporter": "python",
   "pygments_lexer": "ipython3",
   "version": "3.7.4"
  }
 },
 "nbformat": 4,
 "nbformat_minor": 2
}
