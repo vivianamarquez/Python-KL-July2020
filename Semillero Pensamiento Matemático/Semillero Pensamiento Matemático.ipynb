{
 "cells": [
  {
   "cell_type": "markdown",
   "metadata": {
    "slideshow": {
     "slide_type": "slide"
    }
   },
   "source": [
    "# 🤖 ¿Qué es Machine Learning?\n",
    "### Semillero de Pensamiento Matemático\n",
    "#### Fundación Universitaria Konrad Lorenz\n",
    "Julio 22, 2020"
   ]
  },
  {
   "cell_type": "markdown",
   "metadata": {
    "slideshow": {
     "slide_type": "slide"
    }
   },
   "source": [
    "### ¿Quién soy yo?\n",
    "\n",
    "<img src='img/pic1.JPG' style='height:300px; float: left; margin: 0px 15px 15px 0px'> Viviana Márquez <br>\n",
    "<small><br>\n",
    "    👩‍🎓 &nbsp;&nbsp; Matemática de la FUKL<br><br>\n",
    "    👩‍🏫 &nbsp;&nbsp; Magíster en Ciencia de Datos de la Universidad de San Francisco, CA 🇺🇸 <br><br>\n",
    "    🎥 &nbsp;&nbsp; Científica de Datos en HBO Latin America <br><br>\n",
    "    &nbsp;&nbsp;&nbsp;&nbsp;&nbsp;&nbsp;&nbsp;&nbsp; <i>Antes:</i><br> \n",
    "    &nbsp;&nbsp;&nbsp;&nbsp;&nbsp;&nbsp;&nbsp;&nbsp;&nbsp;- Royal Caribbean (Línea de cruceros)<br>\n",
    "    &nbsp;&nbsp;&nbsp;&nbsp;&nbsp;&nbsp;&nbsp;&nbsp;&nbsp;- Zimmerman Advertising (Agencia de publicidad)<br>\n",
    "    &nbsp;&nbsp;&nbsp;&nbsp;&nbsp;&nbsp;&nbsp;&nbsp;&nbsp;- TruSTAR Technology (Compañía de ciberseguridad)\n",
    "</small>"
   ]
  },
  {
   "cell_type": "markdown",
   "metadata": {
    "slideshow": {
     "slide_type": "fragment"
    }
   },
   "source": [
    "<small>Me gusta la combinatoria, programar, la comunicación (videos/escribir) y viajar ✈️🌎<br>\n",
    "\n",
    "Contacto: www.VivianaMarquez.com</small>"
   ]
  },
  {
   "cell_type": "markdown",
   "metadata": {
    "slideshow": {
     "slide_type": "slide"
    }
   },
   "source": [
    "# 🤔 ¿Qué hace un científico de datos?"
   ]
  },
  {
   "cell_type": "markdown",
   "metadata": {
    "slideshow": {
     "slide_type": "fragment"
    }
   },
   "source": [
    "• Respuesta fácil: TODO. \n",
    "    \n",
    "• Respuesta larga: Depende del trabajo."
   ]
  },
  {
   "cell_type": "markdown",
   "metadata": {
    "slideshow": {
     "slide_type": "fragment"
    }
   },
   "source": [
    "<center>🏆 Fórmula Ganadora:</center><br>\n",
    "\n",
    "<center><b>Matemáticas + Programación + Comunicación + Conocimiento del Tema</b></center>"
   ]
  },
  {
   "cell_type": "markdown",
   "metadata": {
    "slideshow": {
     "slide_type": "slide"
    }
   },
   "source": [
    "# 🤔 ¿Qué hace un científico de datos?\n",
    "\n",
    "<br>\n",
    "\n",
    "### Ejemplo: https://covid19-projections.com/colombia"
   ]
  },
  {
   "cell_type": "markdown",
   "metadata": {
    "slideshow": {
     "slide_type": "slide"
    }
   },
   "source": [
    "# 🤔 ¿Qué hace un científico de datos?\n",
    "\n",
    "<br>\n",
    "\n",
    "#### 🏆 Fórmula Ganadora:\n",
    "\n",
    "<br>\n",
    "\n",
    "✅ Matemáticas (Estadística, Álgebra Lineal, etc.)\n",
    "\n",
    "\n",
    "✅ Comunicación (Crear visualizaciones, reportes, escribir, etc.)\n",
    "\n",
    "\n",
    "✅ Conocimiento del Tema (Depende de la industria)\n",
    "\n",
    "\n",
    "✅ Programación (Python/R/SQL, Bases de Datos, <b>Machine Learning</b>, etc.)"
   ]
  },
  {
   "cell_type": "markdown",
   "metadata": {
    "slideshow": {
     "slide_type": "slide"
    }
   },
   "source": [
    "<center><img src='img/pic3.png'><br>\n",
    "Pero... ¿qué es exactamente Machine Learning?</center>\n",
    "\n"
   ]
  },
  {
   "cell_type": "markdown",
   "metadata": {
    "slideshow": {
     "slide_type": "slide"
    }
   },
   "source": [
    "# 🤖 Machine Learning\n",
    "<br>\n",
    "\n",
    "<center><img src='img/pic4.png' style='height:80px'></center>\n",
    "\n",
    "El Machine Learning (aprendizaje automático) se encarga de <u>representar</u> la estructura y <u>generalizar</u> comportamientos de un conjunto de datos a través de un <b>modelo</b>."
   ]
  },
  {
   "cell_type": "markdown",
   "metadata": {
    "slideshow": {
     "slide_type": "fragment"
    }
   },
   "source": [
    "💡 <u>Representar</u>: Extraer la estructura de un conjunto de datos.\n",
    "\n",
    "\n",
    "💡 <u>Generalizar</u>: Hacer predicciones a partir de un conjunto de datos."
   ]
  },
  {
   "attachments": {},
   "cell_type": "markdown",
   "metadata": {
    "slideshow": {
     "slide_type": "slide"
    }
   },
   "source": [
    "# 👠 ¿Modelo?\n",
    "<br>\n",
    "\n",
    "<center>\n",
    "<img src='img/pic5.png' style='height:420px'>\n",
    "</center>\n",
    "\n",
    "<center>\n",
    "Sí, pero modelos matemáticos. \n",
    "</center>\n",
    " \n",
    "Estos se usan para describir un sistema (natural, físico, social, industrial, etc.) usando conceptos y lenguaje matemático.\n"
   ]
  },
  {
   "cell_type": "markdown",
   "metadata": {
    "slideshow": {
     "slide_type": "slide"
    }
   },
   "source": [
    "# 👠 Elementos de un modelo en el contexto de ML"
   ]
  },
  {
   "cell_type": "code",
   "execution_count": 4,
   "metadata": {
    "slideshow": {
     "slide_type": "fragment"
    }
   },
   "outputs": [
    {
     "data": {
      "text/html": [
       "<div>\n",
       "<style scoped>\n",
       "    .dataframe tbody tr th:only-of-type {\n",
       "        vertical-align: middle;\n",
       "    }\n",
       "\n",
       "    .dataframe tbody tr th {\n",
       "        vertical-align: top;\n",
       "    }\n",
       "\n",
       "    .dataframe thead th {\n",
       "        text-align: right;\n",
       "    }\n",
       "</style>\n",
       "<table border=\"1\" class=\"dataframe\">\n",
       "  <thead>\n",
       "    <tr style=\"text-align: right;\">\n",
       "      <th></th>\n",
       "      <th>sepal_length</th>\n",
       "      <th>sepal_width</th>\n",
       "      <th>petal_length</th>\n",
       "      <th>petal_width</th>\n",
       "      <th>species</th>\n",
       "    </tr>\n",
       "  </thead>\n",
       "  <tbody>\n",
       "    <tr>\n",
       "      <td>77</td>\n",
       "      <td>6.7</td>\n",
       "      <td>3.0</td>\n",
       "      <td>5.0</td>\n",
       "      <td>1.7</td>\n",
       "      <td>versicolor</td>\n",
       "    </tr>\n",
       "    <tr>\n",
       "      <td>106</td>\n",
       "      <td>4.9</td>\n",
       "      <td>2.5</td>\n",
       "      <td>4.5</td>\n",
       "      <td>1.7</td>\n",
       "      <td>virginica</td>\n",
       "    </tr>\n",
       "    <tr>\n",
       "      <td>85</td>\n",
       "      <td>6.0</td>\n",
       "      <td>3.4</td>\n",
       "      <td>4.5</td>\n",
       "      <td>1.6</td>\n",
       "      <td>versicolor</td>\n",
       "    </tr>\n",
       "    <tr>\n",
       "      <td>7</td>\n",
       "      <td>5.0</td>\n",
       "      <td>3.4</td>\n",
       "      <td>1.5</td>\n",
       "      <td>0.2</td>\n",
       "      <td>setosa</td>\n",
       "    </tr>\n",
       "    <tr>\n",
       "      <td>46</td>\n",
       "      <td>5.1</td>\n",
       "      <td>3.8</td>\n",
       "      <td>1.6</td>\n",
       "      <td>0.2</td>\n",
       "      <td>setosa</td>\n",
       "    </tr>\n",
       "  </tbody>\n",
       "</table>\n",
       "</div>"
      ],
      "text/plain": [
       "     sepal_length  sepal_width  petal_length  petal_width     species\n",
       "77            6.7          3.0           5.0          1.7  versicolor\n",
       "106           4.9          2.5           4.5          1.7   virginica\n",
       "85            6.0          3.4           4.5          1.6  versicolor\n",
       "7             5.0          3.4           1.5          0.2      setosa\n",
       "46            5.1          3.8           1.6          0.2      setosa"
      ]
     },
     "execution_count": 4,
     "metadata": {},
     "output_type": "execute_result"
    }
   ],
   "source": [
    "import seaborn as sns\n",
    "\n",
    "iris = sns.load_dataset('iris')\n",
    "iris.sample(5)"
   ]
  },
  {
   "cell_type": "markdown",
   "metadata": {
    "slideshow": {
     "slide_type": "fragment"
    }
   },
   "source": [
    "<small>\n",
    "• <b>Entradas (input) del modelo:</b><br>\n",
    "En ML también conocido como: Características, Atributos, Predictores, Entradas, Variables independientes, Dimensiones, etc.\n",
    "\n",
    "• <b>Resultados (output) del modelo:</b><br>\n",
    "En ML también conocido como: Objetivo, Respuesta, Salida, Variable dependiente, etc.\n",
    "\n",
    "• <b>Fila:</b><br>\n",
    "(Incluye input y output) En ML también conocido como: Observación, Registro, etc.\n",
    "\n",
    "• <b>Etiquetas:</b><br>\n",
    "Los valores de la variable dependiente (en el contexto de aprendizaje supervisado que explicaremos más abajo).\n",
    "\n",
    "<br>\n",
    "</small>"
   ]
  },
  {
   "cell_type": "markdown",
   "metadata": {
    "slideshow": {
     "slide_type": "slide"
    }
   },
   "source": [
    "# 📝 Tipos de algoritmos en Machine Learning\n",
    "\n",
    "<br>\n",
    "\n",
    "<center>\n",
    "<img src='img/pic6.png' style='height:500px'>\n",
    "</center>\n",
    "\n",
    "<center>\n",
    "¿Es un perro o es un muffin?\n",
    "</center>"
   ]
  },
  {
   "cell_type": "markdown",
   "metadata": {
    "slideshow": {
     "slide_type": "slide"
    }
   },
   "source": [
    "<center><img src=\"https://leonardoaraujosantos.gitbooks.io/artificial-inteligence/content/Images/supervised_unsupervised.png\" width=\"70%\"/></center>\n",
    "\n",
    "• <b>Supervisados:</b> Problemas con etiquetas.\n",
    "\n",
    "• <b>No supervisados:</b> Problemas sin etiquetas."
   ]
  },
  {
   "cell_type": "markdown",
   "metadata": {
    "slideshow": {
     "slide_type": "slide"
    }
   },
   "source": [
    "<center><img src='https://static.javatpoint.com/tutorial/machine-learning/images/regression-vs-classification-in-machine-learning.png' width=\"60%\"></center>\n",
    "\n",
    "• <b>Continuos:</b>\n",
    "Información cuantitativa/numérica.\n",
    "\n",
    "• <b>Discretos:</b>\n",
    "Información cualitativa."
   ]
  },
  {
   "cell_type": "markdown",
   "metadata": {
    "slideshow": {
     "slide_type": "slide"
    }
   },
   "source": [
    "# 👮‍♀️Pop Quiz: ¿Supervisado o no supervisado?"
   ]
  },
  {
   "cell_type": "markdown",
   "metadata": {
    "slideshow": {
     "slide_type": "fragment"
    }
   },
   "source": [
    "<center><img src='https://barkpost.com/wp-content/uploads/2016/03/labdoodlefriedchicken.jpg'></center>"
   ]
  },
  {
   "cell_type": "markdown",
   "metadata": {
    "slideshow": {
     "slide_type": "slide"
    }
   },
   "source": [
    "# 👮‍♀️Pop Quiz: ¿Continuo o discreto?"
   ]
  },
  {
   "cell_type": "markdown",
   "metadata": {
    "slideshow": {
     "slide_type": "fragment"
    }
   },
   "source": [
    "• Decidir si un email es spam o no."
   ]
  },
  {
   "cell_type": "markdown",
   "metadata": {
    "slideshow": {
     "slide_type": "fragment"
    }
   },
   "source": [
    "• Predecir la estatura de una persona."
   ]
  },
  {
   "cell_type": "markdown",
   "metadata": {
    "slideshow": {
     "slide_type": "slide"
    }
   },
   "source": [
    "# 🤔 ¿Por qué ser científico de datos?"
   ]
  },
  {
   "cell_type": "markdown",
   "metadata": {
    "slideshow": {
     "slide_type": "fragment"
    }
   },
   "source": [
    "• Se oye chévere 😎"
   ]
  },
  {
   "cell_type": "markdown",
   "metadata": {
    "slideshow": {
     "slide_type": "fragment"
    }
   },
   "source": [
    "• Buen salario $$$ y muchas oportunidades laborales 🤑"
   ]
  },
  {
   "cell_type": "markdown",
   "metadata": {
    "slideshow": {
     "slide_type": "fragment"
    }
   },
   "source": [
    "• Facilidad para cambiar de industria 🦄"
   ]
  },
  {
   "cell_type": "markdown",
   "metadata": {
    "slideshow": {
     "slide_type": "fragment"
    }
   },
   "source": [
    "• ¡Aprender muchas habilidades! 🔥"
   ]
  },
  {
   "cell_type": "markdown",
   "metadata": {
    "slideshow": {
     "slide_type": "slide"
    }
   },
   "source": [
    "## 🤔 Y si quiero ser científico de datos... ¿qué debo hacer?"
   ]
  },
  {
   "cell_type": "markdown",
   "metadata": {
    "slideshow": {
     "slide_type": "fragment"
    }
   },
   "source": [
    "• Estás en el lugar correcto, ¡matemáticas! (Pilas con estadística)"
   ]
  },
  {
   "cell_type": "markdown",
   "metadata": {
    "slideshow": {
     "slide_type": "fragment"
    }
   },
   "source": [
    "• Poner mucho cuidado en las clases de programación (¡Python!)"
   ]
  },
  {
   "cell_type": "markdown",
   "metadata": {
    "slideshow": {
     "slide_type": "fragment"
    }
   },
   "source": [
    "• También puedes tomar bases de datos, electivas, semilleros..."
   ]
  },
  {
   "cell_type": "markdown",
   "metadata": {
    "slideshow": {
     "slide_type": "fragment"
    }
   },
   "source": [
    "• Cultiva tus habilidades de comunicación: Crea un blog o un canal de YouTube. (Pilas con el inglés)"
   ]
  },
  {
   "cell_type": "markdown",
   "metadata": {
    "slideshow": {
     "slide_type": "fragment"
    }
   },
   "source": [
    "• ($$$) Crea un portafolio: Github/LinkedIn/Página Web"
   ]
  },
  {
   "cell_type": "markdown",
   "metadata": {
    "slideshow": {
     "slide_type": "slide"
    }
   },
   "source": [
    "# 💡 Ejemplos de Proyectos\n",
    "\n",
    "• http://vivianamarquez.com/ChismeYPython/\n",
    "\n",
    "• http://vivianamarquez.com/Twitter1K/"
   ]
  },
  {
   "cell_type": "markdown",
   "metadata": {
    "slideshow": {
     "slide_type": "slide"
    }
   },
   "source": [
    "# ¡Gracias! 🤗\n",
    "\n",
    "Contacto: www.VivianaMarquez.com"
   ]
  }
 ],
 "metadata": {
  "celltoolbar": "Slideshow",
  "kernelspec": {
   "display_name": "Python 3",
   "language": "python",
   "name": "python3"
  },
  "language_info": {
   "codemirror_mode": {
    "name": "ipython",
    "version": 3
   },
   "file_extension": ".py",
   "mimetype": "text/x-python",
   "name": "python",
   "nbconvert_exporter": "python",
   "pygments_lexer": "ipython3",
   "version": "3.7.4"
  }
 },
 "nbformat": 4,
 "nbformat_minor": 2
}
